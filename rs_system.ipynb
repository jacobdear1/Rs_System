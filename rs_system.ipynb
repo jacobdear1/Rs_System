{
 "cells": [
  {
   "cell_type": "markdown",
   "metadata": {},
   "source": [
    "## Book recommendation system, specifically for Mystery, Crime and Thrillers"
   ]
  },
  {
   "cell_type": "code",
   "execution_count": 2,
   "metadata": {},
   "outputs": [],
   "source": [
    "# import necessary packages to interpret data\n",
    "import gzip\n",
    "import json\n",
    "import numpy as np\n",
    "import pandas as pd\n",
    "from sklearn.feature_extraction.text import TfidfVectorizer\n",
    "from sklearn.metrics.pairwise import cosine_similarity\n"
   ]
  },
  {
   "cell_type": "markdown",
   "metadata": {},
   "source": [
    "## Loading the Dataset\n",
    "\n",
    "The datasets have been downloaded from; https://mengtingwan.github.io/data/goodreads. There are 219,235 books, 1,849,236 detailed reviews and 24,799,896 interactions, but for the purpose of this system we will sample 100k."
   ]
  },
  {
   "cell_type": "code",
   "execution_count": 2,
   "metadata": {},
   "outputs": [
    {
     "data": {
      "text/plain": [
       "{'isbn': '184737297X',\n",
       " 'text_reviews_count': '15',\n",
       " 'series': ['169353'],\n",
       " 'country_code': 'US',\n",
       " 'language_code': '',\n",
       " 'popular_shelves': [{'count': '159', 'name': 'to-read'},\n",
       "  {'count': '12', 'name': 'historical-fiction'},\n",
       "  {'count': '11', 'name': 'mystery'},\n",
       "  {'count': '10', 'name': 'historical-mystery'},\n",
       "  {'count': '7', 'name': 'medieval'},\n",
       "  {'count': '6', 'name': 'historical'},\n",
       "  {'count': '5', 'name': 'crime'},\n",
       "  {'count': '3', 'name': 'series'},\n",
       "  {'count': '3', 'name': 'ebook'},\n",
       "  {'count': '3', 'name': 'fiction'},\n",
       "  {'count': '3', 'name': 'crowner-john'},\n",
       "  {'count': '2', 'name': 'default'},\n",
       "  {'count': '2', 'name': 'books'},\n",
       "  {'count': '2', 'name': 'owned'},\n",
       "  {'count': '2', 'name': 'mystery-thrillers'},\n",
       "  {'count': '2', 'name': 'c'},\n",
       "  {'count': '2', 'name': 'library'},\n",
       "  {'count': '2', 'name': 'wish-list'},\n",
       "  {'count': '2', 'name': 'england'},\n",
       "  {'count': '2', 'name': 'medieval-england'},\n",
       "  {'count': '2', 'name': 'mystery-historical'},\n",
       "  {'count': '2', 'name': 'audiobook'},\n",
       "  {'count': '1', 'name': 'recs-not-interested'},\n",
       "  {'count': '1', 'name': 'available'},\n",
       "  {'count': '1', 'name': 'public-library'},\n",
       "  {'count': '1', 'name': 'boulder'},\n",
       "  {'count': '1', 'name': 'fiction-historical'},\n",
       "  {'count': '1', 'name': 'fiction-crime'},\n",
       "  {'count': '1', 'name': 'downloadable-audio'},\n",
       "  {'count': '1', 'name': 'detectives'},\n",
       "  {'count': '1', 'name': 'need-to-obtain'},\n",
       "  {'count': '1', 'name': 'read-2017'},\n",
       "  {'count': '1', 'name': 'r-f'},\n",
       "  {'count': '1', 'name': 'hist-myst'},\n",
       "  {'count': '1', 'name': 'currently-reading'},\n",
       "  {'count': '1', 'name': 'historic'},\n",
       "  {'count': '1', 'name': 'e-reader-suspense'},\n",
       "  {'count': '1', 'name': 'historical-murder-mystery'},\n",
       "  {'count': '1', 'name': 'historic-fiction'},\n",
       "  {'count': '1', 'name': 'crowner-john-mystery'},\n",
       "  {'count': '1', 'name': 'mideaval-mystery'},\n",
       "  {'count': '1', 'name': 'crime-historical'},\n",
       "  {'count': '1', 'name': 'on-my-shelf'},\n",
       "  {'count': '1', 'name': 'need-to-buy'},\n",
       "  {'count': '1', 'name': 'zenigma-crowner-john'},\n",
       "  {'count': '1', 'name': 'warehouse-sinc'},\n",
       "  {'count': '1', 'name': 'a-missing-piece'},\n",
       "  {'count': '1', 'name': 'library-audiobooks'},\n",
       "  {'count': '1', 'name': 'physical-currently-owned'},\n",
       "  {'count': '1', 'name': 'no-loan'},\n",
       "  {'count': '1', 'name': 'tbr-busting-2015'},\n",
       "  {'count': '1', 'name': 'spring-2015'},\n",
       "  {'count': '1', 'name': 'plantagenet-1154-1485'},\n",
       "  {'count': '1', 'name': 'medieval5c-16c'},\n",
       "  {'count': '1', 'name': 'forensics'},\n",
       "  {'count': '1', 'name': 'zscribd'},\n",
       "  {'count': '1', 'name': 'tbr-2014'},\n",
       "  {'count': '1', 'name': 'pub-simon-schuster'},\n",
       "  {'count': '1', 'name': 'pc-400-499'},\n",
       "  {'count': '1', 'name': 'e-book'},\n",
       "  {'count': '1', 'name': 'c-green'},\n",
       "  {'count': '1', 'name': 'author-k'},\n",
       "  {'count': '1', 'name': 'murder-mystery'},\n",
       "  {'count': '1', 'name': 'knight-b'},\n",
       "  {'count': '1', 'name': 'british'},\n",
       "  {'count': '1', 'name': 'tbr-busting-2014'},\n",
       "  {'count': '1', 'name': 'fraudio'},\n",
       "  {'count': '1', 'name': 'under-500-ratings'},\n",
       "  {'count': '1', 'name': 'winter-20142015'},\n",
       "  {'count': '1', 'name': 'published-2009'},\n",
       "  {'count': '1', 'name': 'historcal-mysteries'},\n",
       "  {'count': '1', 'name': 'in-library'},\n",
       "  {'count': '1', 'name': 'tbr'},\n",
       "  {'count': '1', 'name': 'one-click-dig'},\n",
       "  {'count': '1', 'name': 'dropped'},\n",
       "  {'count': '1', 'name': 'e-library'},\n",
       "  {'count': '1', 'name': 'library-book'},\n",
       "  {'count': '1', 'name': 'read-prior-to-2014'},\n",
       "  {'count': '1', 'name': 'historical-crime-fiction'},\n",
       "  {'count': '1', 'name': 'historical-who-dunnit'},\n",
       "  {'count': '1', 'name': 'lcpl-eaudio'},\n",
       "  {'count': '1', 'name': 'pinossa'},\n",
       "  {'count': '1', 'name': 'b-cher-2012'},\n",
       "  {'count': '1', 'name': 'purchasesaug2013'},\n",
       "  {'count': '1', 'name': 'histmyst'},\n",
       "  {'count': '1', 'name': 'books-i-own'},\n",
       "  {'count': '1', 'name': 'historical-novels'},\n",
       "  {'count': '1', 'name': 'should-read'},\n",
       "  {'count': '1', 'name': 'mystery-historical-all'},\n",
       "  {'count': '1', 'name': 'peter'},\n",
       "  {'count': '1', 'name': 'books-to-get-list'},\n",
       "  {'count': '1', 'name': 'knight-bernard'},\n",
       "  {'count': '1', 'name': 'mp3'},\n",
       "  {'count': '1', 'name': 'needed-mysteries'},\n",
       "  {'count': '1', 'name': 'historical-hoodunits'},\n",
       "  {'count': '1', 'name': 'detective-crowner-john'},\n",
       "  {'count': '1', 'name': 'books-in-english'},\n",
       "  {'count': '1', 'name': 'to'},\n",
       "  {'count': '1', 'name': 'need'},\n",
       "  {'count': '1', 'name': '1100s-ad'}],\n",
       " 'asin': '',\n",
       " 'is_ebook': 'false',\n",
       " 'average_rating': '3.93',\n",
       " 'kindle_asin': 'B007YLTG5I',\n",
       " 'similar_books': ['439108',\n",
       "  '522621',\n",
       "  '116770',\n",
       "  '1275927',\n",
       "  '6202655',\n",
       "  '8409638',\n",
       "  '386777',\n",
       "  '11284834',\n",
       "  '1041348'],\n",
       " 'description': \"London, 1196. At the command of Richard the Lionheart, Sir John de Wolfe has left his beloved West Country for the Palace of Westminster, where he has been appointed Coroner of the Verge. But with the king overseas, embroiled in a costly war against King Philip of France, Sir John is dismayed to discover that the English court is a hotbed of greed, corruption and petty in-fighting.\\nThe murder of one of the palace clerks, stabbed in broad daylight and thrown into the River Thames, leads John to suspect that there's a conspiracy underway to overthrow King Richard. And with the visit of the dowager Queen Eleanor fast approaching, the new Coroner must risk his life to prove his suspicions are right, root out the traitors within and prevent a national catastrophe.\",\n",
       " 'format': 'Hardcover',\n",
       " 'link': 'https://www.goodreads.com/book/show/6066814-crowner-royal',\n",
       " 'authors': [{'author_id': '37778', 'role': ''}],\n",
       " 'publisher': 'Simon & Schuster UK',\n",
       " 'num_pages': '400',\n",
       " 'publication_day': '6',\n",
       " 'isbn13': '9781847372970',\n",
       " 'publication_month': '4',\n",
       " 'edition_information': '',\n",
       " 'publication_year': '2009',\n",
       " 'url': 'https://www.goodreads.com/book/show/6066814-crowner-royal',\n",
       " 'image_url': 'https://images.gr-assets.com/books/1328724803m/6066814.jpg',\n",
       " 'book_id': '6066814',\n",
       " 'ratings_count': '186',\n",
       " 'work_id': '6243149',\n",
       " 'title': 'Crowner Royal (Crowner John Mystery, #13)',\n",
       " 'title_without_series': 'Crowner Royal (Crowner John Mystery, #13)'}"
      ]
     },
     "execution_count": 2,
     "metadata": {},
     "output_type": "execute_result"
    }
   ],
   "source": [
    "# looks at the format of the data, so we can load necessary columns\n",
    "with gzip.open('./data/goodreads_books_mystery_thriller_crime.json.gz') as f:\n",
    "  line = f.readline()\n",
    "json.loads(line)  "
   ]
  },
  {
   "cell_type": "code",
   "execution_count": 3,
   "metadata": {},
   "outputs": [
    {
     "data": {
      "text/plain": [
       "{'user_id': '8842281e1d1347389f2ab93d60773d4d',\n",
       " 'book_id': '6392944',\n",
       " 'review_id': '5e212a62bced17b4dbe41150e5bb9037',\n",
       " 'rating': 3,\n",
       " 'review_text': \"I haven't read a fun mystery book in a while and not sure I've ever read Poirot. Was looking for a fun read set in France while I was on holiday there and this didn't disappoint! Fast paced and good mystery. \\n One that struck me was how similar Poirot is to Sherlock. They are both detectives, have a ex-military sidekick who is telling the story, and solve mysteries using their superior wit. Poirot seems like a French Sherlock. I'm curious if he was inspired by Sherlock.\",\n",
       " 'date_added': 'Mon Jul 24 02:48:17 -0700 2017',\n",
       " 'date_updated': 'Sun Jul 30 09:28:03 -0700 2017',\n",
       " 'read_at': 'Tue Jul 25 00:00:00 -0700 2017',\n",
       " 'started_at': 'Mon Jul 24 00:00:00 -0700 2017',\n",
       " 'n_votes': 6,\n",
       " 'n_comments': 0}"
      ]
     },
     "execution_count": 3,
     "metadata": {},
     "output_type": "execute_result"
    }
   ],
   "source": [
    "with gzip.open('./data/goodreads_reviews_mystery_thriller_crime.json.gz') as f:\n",
    "  line = f.readline()\n",
    "json.loads(line)  "
   ]
  },
  {
   "cell_type": "code",
   "execution_count": 4,
   "metadata": {},
   "outputs": [
    {
     "data": {
      "text/plain": [
       "{'user_id': '8842281e1d1347389f2ab93d60773d4d',\n",
       " 'book_id': '6392944',\n",
       " 'review_id': '5e212a62bced17b4dbe41150e5bb9037',\n",
       " 'is_read': True,\n",
       " 'rating': 3,\n",
       " 'review_text_incomplete': \"I haven't read a fun mystery book in a while and not sure I've ever read Poirot. Was looking for a fun read set in France while I was on holiday there and this didn't disappoint! Fast paced and good mystery.<br /><br />One that struck me was how similar Poirot is to Sherlock. They are both detectives, have a...\",\n",
       " 'date_added': 'Mon Jul 24 02:48:17 -0700 2017',\n",
       " 'date_updated': 'Sun Jul 30 09:28:03 -0700 2017',\n",
       " 'read_at': 'Tue Jul 25 00:00:00 -0700 2017',\n",
       " 'started_at': 'Mon Jul 24 00:00:00 -0700 2017'}"
      ]
     },
     "execution_count": 4,
     "metadata": {},
     "output_type": "execute_result"
    }
   ],
   "source": [
    "with gzip.open('./data/goodreads_interactions_mystery_thriller_crime.json.gz') as f:\n",
    "  line = f.readline()\n",
    "json.loads(line)  "
   ]
  },
  {
   "cell_type": "markdown",
   "metadata": {},
   "source": [
    "## Parsers\n",
    "\n",
    "The code for the parsers and loading the data is based on this github repo: https://github.com/amitmldlai/Book-Recommendation-System/blob/main/Notebook/Book-Recommendation.ipynb, as I found it was the quickest way to do this due to the size of the various files"
   ]
  },
  {
   "cell_type": "code",
   "execution_count": 118,
   "metadata": {},
   "outputs": [],
   "source": [
    "def user_parser(line):\n",
    "  data = {\n",
    "      'book_id': line['book_id'],\n",
    "      'user_id': line['user_id'],\n",
    "      'review_text': line['review_text'],\n",
    "      'review_id' : line['review_id'],\n",
    "      'n_votes': line['n_votes'],\n",
    "      'user_rating': line['rating']\n",
    "  } \n",
    "  return data\n",
    "\n",
    "def book_parser(line):\n",
    "  data = {\n",
    "      'book_id': line['book_id'],\n",
    "      'title_without_series': line['title_without_series'],\n",
    "      'book_description': line['description'],\n",
    "      'publication_year': line['publication_year'],\n",
    "      'publisher': line['publisher'],\n",
    "      'ratings_count': line['ratings_count'],\n",
    "      'book_average_rating': line['average_rating'],\n",
    "      'cover_page': line['image_url'],\n",
    "      'book_url': line['url'],\n",
    "      'is_ebook': line['is_ebook'],\n",
    "      'num_pages': line['num_pages'],\n",
    "      'country_code': line['country_code'],\n",
    "      'language_code': line['language_code'],\n",
    "  }\n",
    "  return data\n"
   ]
  },
  {
   "cell_type": "markdown",
   "metadata": {},
   "source": [
    "### Books"
   ]
  },
  {
   "cell_type": "code",
   "execution_count": 119,
   "metadata": {},
   "outputs": [],
   "source": [
    "# 35s to convert\n",
    "books = list()\n",
    "with gzip.open('./data/goodreads_books_mystery_thriller_crime.json.gz', 'r') as f:\n",
    "  while True:\n",
    "    line = f.readline()\n",
    "    if not line:\n",
    "      break\n",
    "    book = book_parser(json.loads(line))\n",
    "    try:\n",
    "      # makes sure the book has sufficient ratings, so will discount a lot of the low rating books\n",
    "      # as this could create unessecary bias within the system\n",
    "      if int(book['ratings_count'])>25 and int(book['ratings_count'])<1000:\n",
    "        books.append(book)\n",
    "    except Exception:\n",
    "      continue    \n",
    "\n",
    "df_books = pd.DataFrame.from_dict(books)\n",
    "df_books.to_csv('df_books.csv.gz', index=False, compression='gzip') "
   ]
  },
  {
   "cell_type": "code",
   "execution_count": 4,
   "metadata": {},
   "outputs": [
    {
     "data": {
      "text/html": [
       "<div>\n",
       "<style scoped>\n",
       "    .dataframe tbody tr th:only-of-type {\n",
       "        vertical-align: middle;\n",
       "    }\n",
       "\n",
       "    .dataframe tbody tr th {\n",
       "        vertical-align: top;\n",
       "    }\n",
       "\n",
       "    .dataframe thead th {\n",
       "        text-align: right;\n",
       "    }\n",
       "</style>\n",
       "<table border=\"1\" class=\"dataframe\">\n",
       "  <thead>\n",
       "    <tr style=\"text-align: right;\">\n",
       "      <th></th>\n",
       "      <th>book_id</th>\n",
       "      <th>title_without_series</th>\n",
       "      <th>book_description</th>\n",
       "      <th>publication_year</th>\n",
       "      <th>publisher</th>\n",
       "      <th>ratings_count</th>\n",
       "      <th>book_average_rating</th>\n",
       "      <th>cover_page</th>\n",
       "      <th>book_url</th>\n",
       "      <th>is_ebook</th>\n",
       "      <th>num_pages</th>\n",
       "      <th>country_code</th>\n",
       "      <th>language_code</th>\n",
       "    </tr>\n",
       "  </thead>\n",
       "  <tbody>\n",
       "    <tr>\n",
       "      <th>0</th>\n",
       "      <td>6066814</td>\n",
       "      <td>Crowner Royal (Crowner John Mystery, #13)</td>\n",
       "      <td>London, 1196. At the command of Richard the Li...</td>\n",
       "      <td>2009.0</td>\n",
       "      <td>Simon &amp; Schuster UK</td>\n",
       "      <td>186</td>\n",
       "      <td>3.93</td>\n",
       "      <td>https://images.gr-assets.com/books/1328724803m...</td>\n",
       "      <td>https://www.goodreads.com/book/show/6066814-cr...</td>\n",
       "      <td>False</td>\n",
       "      <td>400.0</td>\n",
       "      <td>US</td>\n",
       "      <td>NaN</td>\n",
       "    </tr>\n",
       "    <tr>\n",
       "      <th>1</th>\n",
       "      <td>33394837</td>\n",
       "      <td>The House of Memory (Pluto's Snitch #2)</td>\n",
       "      <td>NaN</td>\n",
       "      <td>NaN</td>\n",
       "      <td>NaN</td>\n",
       "      <td>269</td>\n",
       "      <td>4.33</td>\n",
       "      <td>https://images.gr-assets.com/books/1493114742m...</td>\n",
       "      <td>https://www.goodreads.com/book/show/33394837-t...</td>\n",
       "      <td>True</td>\n",
       "      <td>318.0</td>\n",
       "      <td>US</td>\n",
       "      <td>eng</td>\n",
       "    </tr>\n",
       "    <tr>\n",
       "      <th>2</th>\n",
       "      <td>29074697</td>\n",
       "      <td>The Slaughtered Virgin of Zenopolis (Inspector...</td>\n",
       "      <td>BATHS, BANKS AND ROMAN INSURRECTION\\nDetective...</td>\n",
       "      <td>NaN</td>\n",
       "      <td>Amazon Digital Services</td>\n",
       "      <td>192</td>\n",
       "      <td>3.49</td>\n",
       "      <td>https://s.gr-assets.com/assets/nophoto/book/11...</td>\n",
       "      <td>https://www.goodreads.com/book/show/29074697-t...</td>\n",
       "      <td>True</td>\n",
       "      <td>NaN</td>\n",
       "      <td>US</td>\n",
       "      <td>eng</td>\n",
       "    </tr>\n",
       "    <tr>\n",
       "      <th>3</th>\n",
       "      <td>1902202</td>\n",
       "      <td>Dead in the Morning (Patrick Grant, #1)</td>\n",
       "      <td>Gerald breezily introduced his wife, Helen, to...</td>\n",
       "      <td>1975.0</td>\n",
       "      <td>Ulverscroft</td>\n",
       "      <td>52</td>\n",
       "      <td>3.30</td>\n",
       "      <td>https://s.gr-assets.com/assets/nophoto/book/11...</td>\n",
       "      <td>https://www.goodreads.com/book/show/1902202.De...</td>\n",
       "      <td>False</td>\n",
       "      <td>NaN</td>\n",
       "      <td>US</td>\n",
       "      <td>NaN</td>\n",
       "    </tr>\n",
       "    <tr>\n",
       "      <th>4</th>\n",
       "      <td>2805495</td>\n",
       "      <td>Wycliffe and the Cycle of Death</td>\n",
       "      <td>A respectable bookseller is found bludgeoned a...</td>\n",
       "      <td>2001.0</td>\n",
       "      <td>Orion</td>\n",
       "      <td>58</td>\n",
       "      <td>3.61</td>\n",
       "      <td>https://images.gr-assets.com/books/1328819096m...</td>\n",
       "      <td>https://www.goodreads.com/book/show/2805495-wy...</td>\n",
       "      <td>False</td>\n",
       "      <td>320.0</td>\n",
       "      <td>US</td>\n",
       "      <td>NaN</td>\n",
       "    </tr>\n",
       "  </tbody>\n",
       "</table>\n",
       "</div>"
      ],
      "text/plain": [
       "    book_id                               title_without_series  \\\n",
       "0   6066814          Crowner Royal (Crowner John Mystery, #13)   \n",
       "1  33394837            The House of Memory (Pluto's Snitch #2)   \n",
       "2  29074697  The Slaughtered Virgin of Zenopolis (Inspector...   \n",
       "3   1902202            Dead in the Morning (Patrick Grant, #1)   \n",
       "4   2805495                    Wycliffe and the Cycle of Death   \n",
       "\n",
       "                                    book_description  publication_year  \\\n",
       "0  London, 1196. At the command of Richard the Li...            2009.0   \n",
       "1                                                NaN               NaN   \n",
       "2  BATHS, BANKS AND ROMAN INSURRECTION\\nDetective...               NaN   \n",
       "3  Gerald breezily introduced his wife, Helen, to...            1975.0   \n",
       "4  A respectable bookseller is found bludgeoned a...            2001.0   \n",
       "\n",
       "                 publisher  ratings_count  book_average_rating  \\\n",
       "0      Simon & Schuster UK            186                 3.93   \n",
       "1                      NaN            269                 4.33   \n",
       "2  Amazon Digital Services            192                 3.49   \n",
       "3              Ulverscroft             52                 3.30   \n",
       "4                    Orion             58                 3.61   \n",
       "\n",
       "                                          cover_page  \\\n",
       "0  https://images.gr-assets.com/books/1328724803m...   \n",
       "1  https://images.gr-assets.com/books/1493114742m...   \n",
       "2  https://s.gr-assets.com/assets/nophoto/book/11...   \n",
       "3  https://s.gr-assets.com/assets/nophoto/book/11...   \n",
       "4  https://images.gr-assets.com/books/1328819096m...   \n",
       "\n",
       "                                            book_url  is_ebook  num_pages  \\\n",
       "0  https://www.goodreads.com/book/show/6066814-cr...     False      400.0   \n",
       "1  https://www.goodreads.com/book/show/33394837-t...      True      318.0   \n",
       "2  https://www.goodreads.com/book/show/29074697-t...      True        NaN   \n",
       "3  https://www.goodreads.com/book/show/1902202.De...     False        NaN   \n",
       "4  https://www.goodreads.com/book/show/2805495-wy...     False      320.0   \n",
       "\n",
       "  country_code language_code  \n",
       "0           US           NaN  \n",
       "1           US           eng  \n",
       "2           US           eng  \n",
       "3           US           NaN  \n",
       "4           US           NaN  "
      ]
     },
     "execution_count": 4,
     "metadata": {},
     "output_type": "execute_result"
    }
   ],
   "source": [
    "books = pd.read_csv('df_books.csv.gz')\n",
    "books.head()"
   ]
  },
  {
   "cell_type": "code",
   "execution_count": 5,
   "metadata": {},
   "outputs": [
    {
     "name": "stdout",
     "output_type": "stream",
     "text": [
      "<class 'pandas.core.frame.DataFrame'>\n",
      "RangeIndex: 111654 entries, 0 to 111653\n",
      "Data columns (total 13 columns):\n",
      " #   Column                Non-Null Count   Dtype  \n",
      "---  ------                --------------   -----  \n",
      " 0   book_id               111654 non-null  int64  \n",
      " 1   title_without_series  111654 non-null  object \n",
      " 2   book_description      100901 non-null  object \n",
      " 3   publication_year      81189 non-null   float64\n",
      " 4   publisher             79129 non-null   object \n",
      " 5   ratings_count         111654 non-null  int64  \n",
      " 6   book_average_rating   111654 non-null  float64\n",
      " 7   cover_page            111654 non-null  object \n",
      " 8   book_url              111654 non-null  object \n",
      " 9   is_ebook              111654 non-null  bool   \n",
      " 10  num_pages             78226 non-null   float64\n",
      " 11  country_code          111654 non-null  object \n",
      " 12  language_code         71690 non-null   object \n",
      "dtypes: bool(1), float64(3), int64(2), object(7)\n",
      "memory usage: 10.3+ MB\n"
     ]
    }
   ],
   "source": [
    "books.info()"
   ]
  },
  {
   "cell_type": "markdown",
   "metadata": {},
   "source": [
    "### Users"
   ]
  },
  {
   "cell_type": "code",
   "execution_count": 9,
   "metadata": {},
   "outputs": [],
   "source": [
    "# 3 mins to convert\n",
    "\n",
    "users = list()\n",
    "with gzip.open('./data/goodreads_reviews_mystery_thriller_crime.json.gz', 'r') as f:\n",
    "  while True:\n",
    "    line = f.readline()\n",
    "    if not line:\n",
    "      break\n",
    "    user = user_parser(json.loads(line))\n",
    "    users.append(user)\n",
    "\n",
    "df_users = pd.DataFrame.from_dict(users)\n",
    "df_users.to_csv('df_users.csv.gz', index=False, compression='gzip')"
   ]
  },
  {
   "cell_type": "code",
   "execution_count": 6,
   "metadata": {},
   "outputs": [
    {
     "data": {
      "text/html": [
       "<div>\n",
       "<style scoped>\n",
       "    .dataframe tbody tr th:only-of-type {\n",
       "        vertical-align: middle;\n",
       "    }\n",
       "\n",
       "    .dataframe tbody tr th {\n",
       "        vertical-align: top;\n",
       "    }\n",
       "\n",
       "    .dataframe thead th {\n",
       "        text-align: right;\n",
       "    }\n",
       "</style>\n",
       "<table border=\"1\" class=\"dataframe\">\n",
       "  <thead>\n",
       "    <tr style=\"text-align: right;\">\n",
       "      <th></th>\n",
       "      <th>book_id</th>\n",
       "      <th>user_id</th>\n",
       "      <th>review_text</th>\n",
       "      <th>review_id</th>\n",
       "      <th>n_votes</th>\n",
       "      <th>user_rating</th>\n",
       "    </tr>\n",
       "  </thead>\n",
       "  <tbody>\n",
       "    <tr>\n",
       "      <th>0</th>\n",
       "      <td>6392944</td>\n",
       "      <td>8842281e1d1347389f2ab93d60773d4d</td>\n",
       "      <td>I haven't read a fun mystery book in a while a...</td>\n",
       "      <td>5e212a62bced17b4dbe41150e5bb9037</td>\n",
       "      <td>6</td>\n",
       "      <td>3</td>\n",
       "    </tr>\n",
       "    <tr>\n",
       "      <th>1</th>\n",
       "      <td>28684704</td>\n",
       "      <td>8842281e1d1347389f2ab93d60773d4d</td>\n",
       "      <td>A fun, fast paced science fiction thriller. I ...</td>\n",
       "      <td>2ede853b14dc4583f96cf5d120af636f</td>\n",
       "      <td>22</td>\n",
       "      <td>3</td>\n",
       "    </tr>\n",
       "    <tr>\n",
       "      <th>2</th>\n",
       "      <td>32283133</td>\n",
       "      <td>8842281e1d1347389f2ab93d60773d4d</td>\n",
       "      <td>http://www.telegraph.co.uk/culture/10...</td>\n",
       "      <td>8e4d61801907e591018bdc3442a9cf2b</td>\n",
       "      <td>9</td>\n",
       "      <td>0</td>\n",
       "    </tr>\n",
       "    <tr>\n",
       "      <th>3</th>\n",
       "      <td>17860739</td>\n",
       "      <td>8842281e1d1347389f2ab93d60773d4d</td>\n",
       "      <td>An amazing and unique creation: JJ Abrams and ...</td>\n",
       "      <td>022bb6daffa49adc27f6b20b6ebeb37d</td>\n",
       "      <td>7</td>\n",
       "      <td>4</td>\n",
       "    </tr>\n",
       "    <tr>\n",
       "      <th>4</th>\n",
       "      <td>8694005</td>\n",
       "      <td>8842281e1d1347389f2ab93d60773d4d</td>\n",
       "      <td>The Name of the Rose is a thrilling Dan Brown-...</td>\n",
       "      <td>0e317947e1fd341f573192111bb2921d</td>\n",
       "      <td>17</td>\n",
       "      <td>3</td>\n",
       "    </tr>\n",
       "  </tbody>\n",
       "</table>\n",
       "</div>"
      ],
      "text/plain": [
       "    book_id                           user_id  \\\n",
       "0   6392944  8842281e1d1347389f2ab93d60773d4d   \n",
       "1  28684704  8842281e1d1347389f2ab93d60773d4d   \n",
       "2  32283133  8842281e1d1347389f2ab93d60773d4d   \n",
       "3  17860739  8842281e1d1347389f2ab93d60773d4d   \n",
       "4   8694005  8842281e1d1347389f2ab93d60773d4d   \n",
       "\n",
       "                                         review_text  \\\n",
       "0  I haven't read a fun mystery book in a while a...   \n",
       "1  A fun, fast paced science fiction thriller. I ...   \n",
       "2           http://www.telegraph.co.uk/culture/10...   \n",
       "3  An amazing and unique creation: JJ Abrams and ...   \n",
       "4  The Name of the Rose is a thrilling Dan Brown-...   \n",
       "\n",
       "                          review_id  n_votes  user_rating  \n",
       "0  5e212a62bced17b4dbe41150e5bb9037        6            3  \n",
       "1  2ede853b14dc4583f96cf5d120af636f       22            3  \n",
       "2  8e4d61801907e591018bdc3442a9cf2b        9            0  \n",
       "3  022bb6daffa49adc27f6b20b6ebeb37d        7            4  \n",
       "4  0e317947e1fd341f573192111bb2921d       17            3  "
      ]
     },
     "execution_count": 6,
     "metadata": {},
     "output_type": "execute_result"
    }
   ],
   "source": [
    "users = pd.read_csv('df_users.csv.gz')\n",
    "users.head()"
   ]
  },
  {
   "cell_type": "code",
   "execution_count": 7,
   "metadata": {},
   "outputs": [
    {
     "name": "stdout",
     "output_type": "stream",
     "text": [
      "<class 'pandas.core.frame.DataFrame'>\n",
      "RangeIndex: 1849236 entries, 0 to 1849235\n",
      "Data columns (total 6 columns):\n",
      " #   Column       Dtype \n",
      "---  ------       ----- \n",
      " 0   book_id      int64 \n",
      " 1   user_id      object\n",
      " 2   review_text  object\n",
      " 3   review_id    object\n",
      " 4   n_votes      int64 \n",
      " 5   user_rating  int64 \n",
      "dtypes: int64(3), object(3)\n",
      "memory usage: 84.7+ MB\n"
     ]
    }
   ],
   "source": [
    "users.info()"
   ]
  },
  {
   "cell_type": "markdown",
   "metadata": {},
   "source": [
    "## Data Preparation "
   ]
  },
  {
   "cell_type": "code",
   "execution_count": 8,
   "metadata": {},
   "outputs": [],
   "source": [
    "# make copies of both datasets;\n",
    "users_copy = users.copy()\n",
    "books_copy = books.copy()"
   ]
  },
  {
   "cell_type": "markdown",
   "metadata": {},
   "source": [
    "Check for any occurences of books that aren't english"
   ]
  },
  {
   "cell_type": "code",
   "execution_count": 9,
   "metadata": {},
   "outputs": [
    {
     "data": {
      "text/html": [
       "<div>\n",
       "<style scoped>\n",
       "    .dataframe tbody tr th:only-of-type {\n",
       "        vertical-align: middle;\n",
       "    }\n",
       "\n",
       "    .dataframe tbody tr th {\n",
       "        vertical-align: top;\n",
       "    }\n",
       "\n",
       "    .dataframe thead th {\n",
       "        text-align: right;\n",
       "    }\n",
       "</style>\n",
       "<table border=\"1\" class=\"dataframe\">\n",
       "  <thead>\n",
       "    <tr style=\"text-align: right;\">\n",
       "      <th></th>\n",
       "      <th>book_id</th>\n",
       "      <th>publication_year</th>\n",
       "      <th>ratings_count</th>\n",
       "      <th>book_average_rating</th>\n",
       "      <th>num_pages</th>\n",
       "    </tr>\n",
       "  </thead>\n",
       "  <tbody>\n",
       "    <tr>\n",
       "      <th>count</th>\n",
       "      <td>1.116540e+05</td>\n",
       "      <td>81189.000000</td>\n",
       "      <td>111654.000000</td>\n",
       "      <td>111654.000000</td>\n",
       "      <td>78226.000000</td>\n",
       "    </tr>\n",
       "    <tr>\n",
       "      <th>mean</th>\n",
       "      <td>1.415879e+07</td>\n",
       "      <td>2008.296851</td>\n",
       "      <td>167.516891</td>\n",
       "      <td>3.838677</td>\n",
       "      <td>322.160727</td>\n",
       "    </tr>\n",
       "    <tr>\n",
       "      <th>std</th>\n",
       "      <td>1.054181e+07</td>\n",
       "      <td>130.550807</td>\n",
       "      <td>192.067462</td>\n",
       "      <td>0.310052</td>\n",
       "      <td>164.473045</td>\n",
       "    </tr>\n",
       "    <tr>\n",
       "      <th>min</th>\n",
       "      <td>1.640000e+02</td>\n",
       "      <td>2.000000</td>\n",
       "      <td>26.000000</td>\n",
       "      <td>1.450000</td>\n",
       "      <td>0.000000</td>\n",
       "    </tr>\n",
       "    <tr>\n",
       "      <th>25%</th>\n",
       "      <td>3.257460e+06</td>\n",
       "      <td>2005.000000</td>\n",
       "      <td>46.000000</td>\n",
       "      <td>3.660000</td>\n",
       "      <td>240.000000</td>\n",
       "    </tr>\n",
       "    <tr>\n",
       "      <th>50%</th>\n",
       "      <td>1.333032e+07</td>\n",
       "      <td>2011.000000</td>\n",
       "      <td>87.000000</td>\n",
       "      <td>3.860000</td>\n",
       "      <td>318.000000</td>\n",
       "    </tr>\n",
       "    <tr>\n",
       "      <th>75%</th>\n",
       "      <td>2.291600e+07</td>\n",
       "      <td>2014.000000</td>\n",
       "      <td>203.000000</td>\n",
       "      <td>4.040000</td>\n",
       "      <td>392.000000</td>\n",
       "    </tr>\n",
       "    <tr>\n",
       "      <th>max</th>\n",
       "      <td>3.649690e+07</td>\n",
       "      <td>20113.000000</td>\n",
       "      <td>999.000000</td>\n",
       "      <td>4.950000</td>\n",
       "      <td>16925.000000</td>\n",
       "    </tr>\n",
       "  </tbody>\n",
       "</table>\n",
       "</div>"
      ],
      "text/plain": [
       "            book_id  publication_year  ratings_count  book_average_rating  \\\n",
       "count  1.116540e+05      81189.000000  111654.000000        111654.000000   \n",
       "mean   1.415879e+07       2008.296851     167.516891             3.838677   \n",
       "std    1.054181e+07        130.550807     192.067462             0.310052   \n",
       "min    1.640000e+02          2.000000      26.000000             1.450000   \n",
       "25%    3.257460e+06       2005.000000      46.000000             3.660000   \n",
       "50%    1.333032e+07       2011.000000      87.000000             3.860000   \n",
       "75%    2.291600e+07       2014.000000     203.000000             4.040000   \n",
       "max    3.649690e+07      20113.000000     999.000000             4.950000   \n",
       "\n",
       "          num_pages  \n",
       "count  78226.000000  \n",
       "mean     322.160727  \n",
       "std      164.473045  \n",
       "min        0.000000  \n",
       "25%      240.000000  \n",
       "50%      318.000000  \n",
       "75%      392.000000  \n",
       "max    16925.000000  "
      ]
     },
     "execution_count": 9,
     "metadata": {},
     "output_type": "execute_result"
    }
   ],
   "source": [
    "books_copy.describe()"
   ]
  },
  {
   "cell_type": "code",
   "execution_count": 10,
   "metadata": {},
   "outputs": [
    {
     "name": "stdout",
     "output_type": "stream",
     "text": [
      "country_code ['US']\n",
      "language_code [nan 'eng' 'en-CA' 'gre' 'fin' 'en-GB' 'en-US' 'ita' 'spa' 'ger' 'swe'\n",
      " 'nl' 'en' 'ind' 'rum' 'fre' 'por' 'afr' 'dan' 'srp' 'ben' 'pol' 'vie'\n",
      " 'nor' 'tha' 'bul' 'nob' 'cze' 'ara' 'tur' 'kan' 'rus' 'msa' 'est' 'isl'\n",
      " 'jpn' 'slo' 'scr' 'lav' 'heb' 'lit' 'tam' 'zho' 'cat' 'ukr' 'hin' 'hun'\n",
      " 'vls' 'per' 'din' 'kat' 'glg' 'nno' 'frs' 'urd' '--' 'nld' 'fil' 'mlt'\n",
      " 'kor' 'es-MX' 'egy' 'mul' 'mal' 'sin' 'tel' 'ady' 'mus' 'aus']\n"
     ]
    }
   ],
   "source": [
    "# lists all unique vales \n",
    "for col in list(books_copy):\n",
    "    # looks at unique values of these 2 to make sure we only have english descriptions\n",
    "    if col == 'language_code' or col == 'country_code':\n",
    "        print(col,books_copy[col].unique())"
   ]
  },
  {
   "cell_type": "markdown",
   "metadata": {},
   "source": [
    "can keep 'eng', 'en-CA', 'en-GB', 'en-US', 'en', 'aus', as these are all english and nan values"
   ]
  },
  {
   "cell_type": "code",
   "execution_count": 11,
   "metadata": {},
   "outputs": [],
   "source": [
    "# keeps only the valid language codes, allows for proper content based filtering\n",
    "# used this to work out valid codes https://www.loc.gov/standards/iso639-2/php/English_list.php \n",
    "valid_language_codes = ['eng', 'en-CA', 'en-GB', 'en-US', 'en', 'aus', np.nan]\n",
    "\n",
    "books_copy = books_copy[books_copy['language_code'].isin(valid_language_codes)]"
   ]
  },
  {
   "cell_type": "code",
   "execution_count": 12,
   "metadata": {},
   "outputs": [
    {
     "name": "stdout",
     "output_type": "stream",
     "text": [
      "<class 'pandas.core.frame.DataFrame'>\n",
      "Int64Index: 96357 entries, 0 to 111652\n",
      "Data columns (total 13 columns):\n",
      " #   Column                Non-Null Count  Dtype  \n",
      "---  ------                --------------  -----  \n",
      " 0   book_id               96357 non-null  int64  \n",
      " 1   title_without_series  96357 non-null  object \n",
      " 2   book_description      86230 non-null  object \n",
      " 3   publication_year      67302 non-null  float64\n",
      " 4   publisher             65045 non-null  object \n",
      " 5   ratings_count         96357 non-null  int64  \n",
      " 6   book_average_rating   96357 non-null  float64\n",
      " 7   cover_page            96357 non-null  object \n",
      " 8   book_url              96357 non-null  object \n",
      " 9   is_ebook              96357 non-null  bool   \n",
      " 10  num_pages             64402 non-null  float64\n",
      " 11  country_code          96357 non-null  object \n",
      " 12  language_code         56393 non-null  object \n",
      "dtypes: bool(1), float64(3), int64(2), object(7)\n",
      "memory usage: 9.6+ MB\n"
     ]
    }
   ],
   "source": [
    "books_copy.info()"
   ]
  },
  {
   "cell_type": "markdown",
   "metadata": {},
   "source": [
    "### Checks for any duplicate entries, and removes if they occur"
   ]
  },
  {
   "cell_type": "code",
   "execution_count": 13,
   "metadata": {},
   "outputs": [
    {
     "data": {
      "text/plain": [
       "0"
      ]
     },
     "execution_count": 13,
     "metadata": {},
     "output_type": "execute_result"
    }
   ],
   "source": [
    "users[['user_id','book_id','user_rating']].duplicated().sum()"
   ]
  },
  {
   "cell_type": "code",
   "execution_count": 14,
   "metadata": {},
   "outputs": [
    {
     "data": {
      "text/plain": [
       "23707"
      ]
     },
     "execution_count": 14,
     "metadata": {},
     "output_type": "execute_result"
    }
   ],
   "source": [
    "books_copy[['title_without_series','book_average_rating']].duplicated().sum()"
   ]
  },
  {
   "cell_type": "code",
   "execution_count": 15,
   "metadata": {},
   "outputs": [
    {
     "data": {
      "text/plain": [
       "(72650, 13)"
      ]
     },
     "execution_count": 15,
     "metadata": {},
     "output_type": "execute_result"
    }
   ],
   "source": [
    "# gets rid of any duplicate ratings within the books\n",
    "books_copy.drop_duplicates(subset=['title_without_series','book_average_rating'], keep='first', inplace=True)\n",
    "\n",
    "books_copy.shape"
   ]
  },
  {
   "cell_type": "code",
   "execution_count": 16,
   "metadata": {},
   "outputs": [
    {
     "data": {
      "text/plain": [
       "book_id                 False\n",
       "title_without_series    False\n",
       "book_description         True\n",
       "publication_year         True\n",
       "publisher                True\n",
       "ratings_count           False\n",
       "book_average_rating     False\n",
       "cover_page              False\n",
       "book_url                False\n",
       "is_ebook                False\n",
       "num_pages                True\n",
       "country_code            False\n",
       "language_code            True\n",
       "dtype: bool"
      ]
     },
     "execution_count": 16,
     "metadata": {},
     "output_type": "execute_result"
    }
   ],
   "source": [
    "books_copy.isnull().any(axis=0)"
   ]
  },
  {
   "cell_type": "code",
   "execution_count": 17,
   "metadata": {},
   "outputs": [
    {
     "data": {
      "text/html": [
       "<div>\n",
       "<style scoped>\n",
       "    .dataframe tbody tr th:only-of-type {\n",
       "        vertical-align: middle;\n",
       "    }\n",
       "\n",
       "    .dataframe tbody tr th {\n",
       "        vertical-align: top;\n",
       "    }\n",
       "\n",
       "    .dataframe thead th {\n",
       "        text-align: right;\n",
       "    }\n",
       "</style>\n",
       "<table border=\"1\" class=\"dataframe\">\n",
       "  <thead>\n",
       "    <tr style=\"text-align: right;\">\n",
       "      <th></th>\n",
       "      <th>num_pages</th>\n",
       "      <th>book_average_rating</th>\n",
       "      <th>publication_year</th>\n",
       "    </tr>\n",
       "  </thead>\n",
       "  <tbody>\n",
       "    <tr>\n",
       "      <th>count</th>\n",
       "      <td>24439.000000</td>\n",
       "      <td>49505.000000</td>\n",
       "      <td>26747.000000</td>\n",
       "    </tr>\n",
       "    <tr>\n",
       "      <th>mean</th>\n",
       "      <td>304.813986</td>\n",
       "      <td>3.842399</td>\n",
       "      <td>2005.762702</td>\n",
       "    </tr>\n",
       "    <tr>\n",
       "      <th>std</th>\n",
       "      <td>144.261588</td>\n",
       "      <td>0.331202</td>\n",
       "      <td>33.003229</td>\n",
       "    </tr>\n",
       "    <tr>\n",
       "      <th>min</th>\n",
       "      <td>0.000000</td>\n",
       "      <td>1.920000</td>\n",
       "      <td>2.000000</td>\n",
       "    </tr>\n",
       "    <tr>\n",
       "      <th>25%</th>\n",
       "      <td>231.000000</td>\n",
       "      <td>3.640000</td>\n",
       "      <td>2002.000000</td>\n",
       "    </tr>\n",
       "    <tr>\n",
       "      <th>50%</th>\n",
       "      <td>304.000000</td>\n",
       "      <td>3.850000</td>\n",
       "      <td>2009.000000</td>\n",
       "    </tr>\n",
       "    <tr>\n",
       "      <th>75%</th>\n",
       "      <td>368.000000</td>\n",
       "      <td>4.060000</td>\n",
       "      <td>2013.000000</td>\n",
       "    </tr>\n",
       "    <tr>\n",
       "      <th>max</th>\n",
       "      <td>5104.000000</td>\n",
       "      <td>4.950000</td>\n",
       "      <td>2911.000000</td>\n",
       "    </tr>\n",
       "  </tbody>\n",
       "</table>\n",
       "</div>"
      ],
      "text/plain": [
       "          num_pages  book_average_rating  publication_year\n",
       "count  24439.000000         49505.000000      26747.000000\n",
       "mean     304.813986             3.842399       2005.762702\n",
       "std      144.261588             0.331202         33.003229\n",
       "min        0.000000             1.920000          2.000000\n",
       "25%      231.000000             3.640000       2002.000000\n",
       "50%      304.000000             3.850000       2009.000000\n",
       "75%      368.000000             4.060000       2013.000000\n",
       "max     5104.000000             4.950000       2911.000000"
      ]
     },
     "execution_count": 17,
     "metadata": {},
     "output_type": "execute_result"
    }
   ],
   "source": [
    "books_copy[books_copy.isnull().any(axis=1)][['num_pages', 'book_average_rating','publication_year', 'publisher']].describe()"
   ]
  },
  {
   "cell_type": "code",
   "execution_count": 18,
   "metadata": {},
   "outputs": [
    {
     "data": {
      "text/plain": [
       "(72650, 13)"
      ]
     },
     "execution_count": 18,
     "metadata": {},
     "output_type": "execute_result"
    }
   ],
   "source": [
    "books_copy.shape"
   ]
  },
  {
   "cell_type": "code",
   "execution_count": 19,
   "metadata": {},
   "outputs": [],
   "source": [
    "# num_pages has 8304 null values and publication_year has 10663 null values, so we take the median value of each column and place this in\n",
    "\n",
    "books_copy['publication_year'] = books_copy['publication_year'].fillna(books_copy['publication_year'].median())\n",
    "books_copy['num_pages'] = books_copy['num_pages'].fillna(books_copy['num_pages'].median())\n",
    "books_copy['language_code'] = books_copy['language_code'].fillna('en-US')"
   ]
  },
  {
   "cell_type": "code",
   "execution_count": 20,
   "metadata": {},
   "outputs": [
    {
     "data": {
      "text/plain": [
       "book_id                 False\n",
       "title_without_series    False\n",
       "book_description         True\n",
       "publication_year        False\n",
       "publisher                True\n",
       "ratings_count           False\n",
       "book_average_rating     False\n",
       "cover_page              False\n",
       "book_url                False\n",
       "is_ebook                False\n",
       "num_pages               False\n",
       "country_code            False\n",
       "language_code           False\n",
       "dtype: bool"
      ]
     },
     "execution_count": 20,
     "metadata": {},
     "output_type": "execute_result"
    }
   ],
   "source": [
    "books_copy.isnull().any(axis=0)"
   ]
  },
  {
   "cell_type": "code",
   "execution_count": 21,
   "metadata": {},
   "outputs": [],
   "source": [
    "# not sure how to process the text columns to fill the null/missing values? -> just drop these as these have no real importance to the ratings_count?\n",
    "books_copy.dropna(subset=['publisher', 'book_description'],axis=0,inplace=True)\n",
    "\n",
    "# subset allows for quicker operations on mutliple columns\n",
    "\n",
    "# can drop due to the fact we cannot extrapolate to get any values due to it not being numeric data"
   ]
  },
  {
   "cell_type": "code",
   "execution_count": 22,
   "metadata": {},
   "outputs": [
    {
     "data": {
      "text/plain": [
       "book_id                 False\n",
       "title_without_series    False\n",
       "book_description        False\n",
       "publication_year        False\n",
       "publisher               False\n",
       "ratings_count           False\n",
       "book_average_rating     False\n",
       "cover_page              False\n",
       "book_url                False\n",
       "is_ebook                False\n",
       "num_pages               False\n",
       "country_code            False\n",
       "language_code           False\n",
       "dtype: bool"
      ]
     },
     "execution_count": 22,
     "metadata": {},
     "output_type": "execute_result"
    }
   ],
   "source": [
    "books_copy.isnull().any(axis=0)"
   ]
  },
  {
   "cell_type": "markdown",
   "metadata": {},
   "source": [
    "### Check the users/ratings now"
   ]
  },
  {
   "cell_type": "code",
   "execution_count": 23,
   "metadata": {},
   "outputs": [
    {
     "data": {
      "text/plain": [
       "book_id        False\n",
       "user_id        False\n",
       "review_text     True\n",
       "review_id      False\n",
       "n_votes        False\n",
       "user_rating    False\n",
       "dtype: bool"
      ]
     },
     "execution_count": 23,
     "metadata": {},
     "output_type": "execute_result"
    }
   ],
   "source": [
    "users_copy.isnull().any(axis=0)"
   ]
  },
  {
   "cell_type": "code",
   "execution_count": 24,
   "metadata": {},
   "outputs": [],
   "source": [
    "users_copy.dropna(subset=['review_text'],axis=0,inplace=True)"
   ]
  },
  {
   "cell_type": "code",
   "execution_count": 25,
   "metadata": {},
   "outputs": [
    {
     "data": {
      "text/plain": [
       "book_id        False\n",
       "user_id        False\n",
       "review_text    False\n",
       "review_id      False\n",
       "n_votes        False\n",
       "user_rating    False\n",
       "dtype: bool"
      ]
     },
     "execution_count": 25,
     "metadata": {},
     "output_type": "execute_result"
    }
   ],
   "source": [
    "users_copy.isnull().any(axis=0)"
   ]
  },
  {
   "cell_type": "code",
   "execution_count": 26,
   "metadata": {},
   "outputs": [
    {
     "data": {
      "text/plain": [
       "(1848810, 6)"
      ]
     },
     "execution_count": 26,
     "metadata": {},
     "output_type": "execute_result"
    }
   ],
   "source": [
    "users_copy.shape"
   ]
  },
  {
   "cell_type": "code",
   "execution_count": 27,
   "metadata": {},
   "outputs": [
    {
     "data": {
      "text/plain": [
       "(45256, 13)"
      ]
     },
     "execution_count": 27,
     "metadata": {},
     "output_type": "execute_result"
    }
   ],
   "source": [
    "books_copy.shape"
   ]
  },
  {
   "cell_type": "markdown",
   "metadata": {},
   "source": [
    "Have now finished the preprocesing and have no null values within the dataset, only have 45k books with 1.84 million interactions"
   ]
  },
  {
   "cell_type": "markdown",
   "metadata": {},
   "source": [
    "## Merge the datasets"
   ]
  },
  {
   "cell_type": "code",
   "execution_count": 28,
   "metadata": {},
   "outputs": [],
   "source": [
    "ratings = pd.merge(books_copy, users_copy, on='book_id')"
   ]
  },
  {
   "cell_type": "code",
   "execution_count": 29,
   "metadata": {},
   "outputs": [
    {
     "data": {
      "text/plain": [
       "(312110, 18)"
      ]
     },
     "execution_count": 29,
     "metadata": {},
     "output_type": "execute_result"
    }
   ],
   "source": [
    "ratings.shape\n",
    "\n",
    "# have 312k entries for the ratings, so take a sample of the first 100k that is the same each time"
   ]
  },
  {
   "cell_type": "code",
   "execution_count": 30,
   "metadata": {},
   "outputs": [
    {
     "data": {
      "text/plain": [
       "Index(['book_id', 'title_without_series', 'book_description',\n",
       "       'publication_year', 'publisher', 'ratings_count', 'book_average_rating',\n",
       "       'cover_page', 'book_url', 'is_ebook', 'num_pages', 'country_code',\n",
       "       'language_code', 'user_id', 'review_text', 'review_id', 'n_votes',\n",
       "       'user_rating'],\n",
       "      dtype='object')"
      ]
     },
     "execution_count": 30,
     "metadata": {},
     "output_type": "execute_result"
    }
   ],
   "source": [
    "ratings.columns"
   ]
  },
  {
   "cell_type": "code",
   "execution_count": 31,
   "metadata": {},
   "outputs": [
    {
     "data": {
      "text/html": [
       "<div>\n",
       "<style scoped>\n",
       "    .dataframe tbody tr th:only-of-type {\n",
       "        vertical-align: middle;\n",
       "    }\n",
       "\n",
       "    .dataframe tbody tr th {\n",
       "        vertical-align: top;\n",
       "    }\n",
       "\n",
       "    .dataframe thead th {\n",
       "        text-align: right;\n",
       "    }\n",
       "</style>\n",
       "<table border=\"1\" class=\"dataframe\">\n",
       "  <thead>\n",
       "    <tr style=\"text-align: right;\">\n",
       "      <th></th>\n",
       "      <th>book_id</th>\n",
       "      <th>title_without_series</th>\n",
       "      <th>book_description</th>\n",
       "      <th>publication_year</th>\n",
       "      <th>publisher</th>\n",
       "      <th>ratings_count</th>\n",
       "      <th>book_average_rating</th>\n",
       "      <th>cover_page</th>\n",
       "      <th>book_url</th>\n",
       "      <th>is_ebook</th>\n",
       "      <th>num_pages</th>\n",
       "      <th>country_code</th>\n",
       "      <th>language_code</th>\n",
       "      <th>user_id</th>\n",
       "      <th>review_text</th>\n",
       "      <th>review_id</th>\n",
       "      <th>n_votes</th>\n",
       "      <th>user_rating</th>\n",
       "    </tr>\n",
       "  </thead>\n",
       "  <tbody>\n",
       "    <tr>\n",
       "      <th>0</th>\n",
       "      <td>6066814</td>\n",
       "      <td>Crowner Royal (Crowner John Mystery, #13)</td>\n",
       "      <td>London, 1196. At the command of Richard the Li...</td>\n",
       "      <td>2009.0</td>\n",
       "      <td>Simon &amp; Schuster UK</td>\n",
       "      <td>186</td>\n",
       "      <td>3.93</td>\n",
       "      <td>https://images.gr-assets.com/books/1328724803m...</td>\n",
       "      <td>https://www.goodreads.com/book/show/6066814-cr...</td>\n",
       "      <td>False</td>\n",
       "      <td>400.0</td>\n",
       "      <td>US</td>\n",
       "      <td>en-US</td>\n",
       "      <td>9ab00cb54e02704c5a7bd5ca90564e2e</td>\n",
       "      <td>I enjoyed this book. It kept me guessing until...</td>\n",
       "      <td>8ee2d0644aa02cdf9a40dde4adaade04</td>\n",
       "      <td>0</td>\n",
       "      <td>5</td>\n",
       "    </tr>\n",
       "    <tr>\n",
       "      <th>1</th>\n",
       "      <td>29074697</td>\n",
       "      <td>The Slaughtered Virgin of Zenopolis (Inspector...</td>\n",
       "      <td>BATHS, BANKS AND ROMAN INSURRECTION\\nDetective...</td>\n",
       "      <td>2011.0</td>\n",
       "      <td>Amazon Digital Services</td>\n",
       "      <td>192</td>\n",
       "      <td>3.49</td>\n",
       "      <td>https://s.gr-assets.com/assets/nophoto/book/11...</td>\n",
       "      <td>https://www.goodreads.com/book/show/29074697-t...</td>\n",
       "      <td>True</td>\n",
       "      <td>304.0</td>\n",
       "      <td>US</td>\n",
       "      <td>eng</td>\n",
       "      <td>42dabb3a33d9a437387496a2dd50a247</td>\n",
       "      <td>It seems to take place in a parallel world ful...</td>\n",
       "      <td>c0e3b3879264cb7a888c5da4f5bf25c4</td>\n",
       "      <td>0</td>\n",
       "      <td>2</td>\n",
       "    </tr>\n",
       "    <tr>\n",
       "      <th>2</th>\n",
       "      <td>1902202</td>\n",
       "      <td>Dead in the Morning (Patrick Grant, #1)</td>\n",
       "      <td>Gerald breezily introduced his wife, Helen, to...</td>\n",
       "      <td>1975.0</td>\n",
       "      <td>Ulverscroft</td>\n",
       "      <td>52</td>\n",
       "      <td>3.30</td>\n",
       "      <td>https://s.gr-assets.com/assets/nophoto/book/11...</td>\n",
       "      <td>https://www.goodreads.com/book/show/1902202.De...</td>\n",
       "      <td>False</td>\n",
       "      <td>304.0</td>\n",
       "      <td>US</td>\n",
       "      <td>en-US</td>\n",
       "      <td>1e7bca7d5f8e3d6460320704c423c12e</td>\n",
       "      <td>Lively</td>\n",
       "      <td>22d5b7a4c8c7a48ec09b8779ecc76221</td>\n",
       "      <td>0</td>\n",
       "      <td>4</td>\n",
       "    </tr>\n",
       "    <tr>\n",
       "      <th>3</th>\n",
       "      <td>1902202</td>\n",
       "      <td>Dead in the Morning (Patrick Grant, #1)</td>\n",
       "      <td>Gerald breezily introduced his wife, Helen, to...</td>\n",
       "      <td>1975.0</td>\n",
       "      <td>Ulverscroft</td>\n",
       "      <td>52</td>\n",
       "      <td>3.30</td>\n",
       "      <td>https://s.gr-assets.com/assets/nophoto/book/11...</td>\n",
       "      <td>https://www.goodreads.com/book/show/1902202.De...</td>\n",
       "      <td>False</td>\n",
       "      <td>304.0</td>\n",
       "      <td>US</td>\n",
       "      <td>en-US</td>\n",
       "      <td>6a352b99747118883209c79d4d1f587d</td>\n",
       "      <td>I'm always trying to find the perfect mystery ...</td>\n",
       "      <td>0b104fb43b46e65758a1837450fa90d0</td>\n",
       "      <td>0</td>\n",
       "      <td>4</td>\n",
       "    </tr>\n",
       "    <tr>\n",
       "      <th>4</th>\n",
       "      <td>2805495</td>\n",
       "      <td>Wycliffe and the Cycle of Death</td>\n",
       "      <td>A respectable bookseller is found bludgeoned a...</td>\n",
       "      <td>2001.0</td>\n",
       "      <td>Orion</td>\n",
       "      <td>58</td>\n",
       "      <td>3.61</td>\n",
       "      <td>https://images.gr-assets.com/books/1328819096m...</td>\n",
       "      <td>https://www.goodreads.com/book/show/2805495-wy...</td>\n",
       "      <td>False</td>\n",
       "      <td>320.0</td>\n",
       "      <td>US</td>\n",
       "      <td>en-US</td>\n",
       "      <td>5c4fd56b7e95eb4d92ee8814b883eab8</td>\n",
       "      <td>I enjoy the Wycliffe books,simpley because,the...</td>\n",
       "      <td>cc5598497557cd09bdd6b6246104bf99</td>\n",
       "      <td>0</td>\n",
       "      <td>4</td>\n",
       "    </tr>\n",
       "  </tbody>\n",
       "</table>\n",
       "</div>"
      ],
      "text/plain": [
       "    book_id                               title_without_series  \\\n",
       "0   6066814          Crowner Royal (Crowner John Mystery, #13)   \n",
       "1  29074697  The Slaughtered Virgin of Zenopolis (Inspector...   \n",
       "2   1902202            Dead in the Morning (Patrick Grant, #1)   \n",
       "3   1902202            Dead in the Morning (Patrick Grant, #1)   \n",
       "4   2805495                    Wycliffe and the Cycle of Death   \n",
       "\n",
       "                                    book_description  publication_year  \\\n",
       "0  London, 1196. At the command of Richard the Li...            2009.0   \n",
       "1  BATHS, BANKS AND ROMAN INSURRECTION\\nDetective...            2011.0   \n",
       "2  Gerald breezily introduced his wife, Helen, to...            1975.0   \n",
       "3  Gerald breezily introduced his wife, Helen, to...            1975.0   \n",
       "4  A respectable bookseller is found bludgeoned a...            2001.0   \n",
       "\n",
       "                 publisher  ratings_count  book_average_rating  \\\n",
       "0      Simon & Schuster UK            186                 3.93   \n",
       "1  Amazon Digital Services            192                 3.49   \n",
       "2              Ulverscroft             52                 3.30   \n",
       "3              Ulverscroft             52                 3.30   \n",
       "4                    Orion             58                 3.61   \n",
       "\n",
       "                                          cover_page  \\\n",
       "0  https://images.gr-assets.com/books/1328724803m...   \n",
       "1  https://s.gr-assets.com/assets/nophoto/book/11...   \n",
       "2  https://s.gr-assets.com/assets/nophoto/book/11...   \n",
       "3  https://s.gr-assets.com/assets/nophoto/book/11...   \n",
       "4  https://images.gr-assets.com/books/1328819096m...   \n",
       "\n",
       "                                            book_url  is_ebook  num_pages  \\\n",
       "0  https://www.goodreads.com/book/show/6066814-cr...     False      400.0   \n",
       "1  https://www.goodreads.com/book/show/29074697-t...      True      304.0   \n",
       "2  https://www.goodreads.com/book/show/1902202.De...     False      304.0   \n",
       "3  https://www.goodreads.com/book/show/1902202.De...     False      304.0   \n",
       "4  https://www.goodreads.com/book/show/2805495-wy...     False      320.0   \n",
       "\n",
       "  country_code language_code                           user_id  \\\n",
       "0           US         en-US  9ab00cb54e02704c5a7bd5ca90564e2e   \n",
       "1           US           eng  42dabb3a33d9a437387496a2dd50a247   \n",
       "2           US         en-US  1e7bca7d5f8e3d6460320704c423c12e   \n",
       "3           US         en-US  6a352b99747118883209c79d4d1f587d   \n",
       "4           US         en-US  5c4fd56b7e95eb4d92ee8814b883eab8   \n",
       "\n",
       "                                         review_text  \\\n",
       "0  I enjoyed this book. It kept me guessing until...   \n",
       "1  It seems to take place in a parallel world ful...   \n",
       "2                                             Lively   \n",
       "3  I'm always trying to find the perfect mystery ...   \n",
       "4  I enjoy the Wycliffe books,simpley because,the...   \n",
       "\n",
       "                          review_id  n_votes  user_rating  \n",
       "0  8ee2d0644aa02cdf9a40dde4adaade04        0            5  \n",
       "1  c0e3b3879264cb7a888c5da4f5bf25c4        0            2  \n",
       "2  22d5b7a4c8c7a48ec09b8779ecc76221        0            4  \n",
       "3  0b104fb43b46e65758a1837450fa90d0        0            4  \n",
       "4  cc5598497557cd09bdd6b6246104bf99        0            4  "
      ]
     },
     "execution_count": 31,
     "metadata": {},
     "output_type": "execute_result"
    }
   ],
   "source": [
    "ratings.head()"
   ]
  },
  {
   "cell_type": "markdown",
   "metadata": {},
   "source": [
    "### num_pages"
   ]
  },
  {
   "cell_type": "code",
   "execution_count": 32,
   "metadata": {},
   "outputs": [
    {
     "name": "stdout",
     "output_type": "stream",
     "text": [
      "0th percentile is 0.0\n",
      "10th percentile is 196.0\n",
      "20th percentile is 240.0\n",
      "30th percentile is 272.0\n",
      "40th percentile is 296.0\n",
      "50th percentile is 304.0\n",
      "60th percentile is 320.0\n",
      "70th percentile is 340.0\n",
      "80th percentile is 370.0\n",
      "90th percentile is 416.0\n",
      "100th percentile is 16925.0\n",
      "0th percentile is 0.0\n",
      "1th percentile is 12.0\n",
      "2th percentile is 46.0\n",
      "3th percentile is 80.0\n",
      "4th percentile is 108.0\n",
      "5th percentile is 130.0\n",
      "6th percentile is 150.0\n",
      "7th percentile is 164.0\n",
      "8th percentile is 178.0\n",
      "9th percentile is 189.0\n",
      "10th percentile is 196.0\n",
      "90th percentile is 416.0\n",
      "91th percentile is 424.0\n",
      "92th percentile is 432.0\n",
      "93th percentile is 444.0\n",
      "94th percentile is 452.0\n",
      "95th percentile is 465.0\n",
      "96th percentile is 480.0\n",
      "97th percentile is 500.0\n",
      "98th percentile is 528.0\n",
      "99th percentile is 592.0\n",
      "100th percentile is 16925.0\n"
     ]
    }
   ],
   "source": [
    "# first we need to work out the distribution of this to see if there are any outliers\n",
    "\n",
    "# look at percentiles to work out this\n",
    "\n",
    "for i in range(0, 110,10):\n",
    "    print(f'{i}th percentile is', np.percentile(ratings['num_pages'], i))\n",
    "\n",
    "for i in range(0, 11,1):\n",
    "    print(f'{i}th percentile is', np.percentile(ratings['num_pages'], i))\n",
    "\n",
    "for i in range(90, 101,1):\n",
    "    print(f'{i}th percentile is', np.percentile(ratings['num_pages'], i))\n",
    "\n"
   ]
  },
  {
   "cell_type": "markdown",
   "metadata": {},
   "source": [
    "Can see that we have a few books with less than 11 pages, so we will drop below this, as this will be too short.\n",
    "\n",
    "Also, we have a book with 16925 pages, so we will drop above 1000 pages. As this is only 260 ratings out of 312153\n",
    "\n",
    "There are 1231 ratings swith books below 5 pages, so we will also drop these. As it is unlikely you want  abook woth less than 5 pages"
   ]
  },
  {
   "cell_type": "code",
   "execution_count": 33,
   "metadata": {},
   "outputs": [
    {
     "data": {
      "text/plain": [
       "259"
      ]
     },
     "execution_count": 33,
     "metadata": {},
     "output_type": "execute_result"
    }
   ],
   "source": [
    "ratings[ratings['num_pages']>=1000.0]['num_pages'].count()"
   ]
  },
  {
   "cell_type": "code",
   "execution_count": 34,
   "metadata": {},
   "outputs": [
    {
     "data": {
      "text/plain": [
       "1229"
      ]
     },
     "execution_count": 34,
     "metadata": {},
     "output_type": "execute_result"
    }
   ],
   "source": [
    "ratings[ratings['num_pages']<=5.0]['num_pages'].count()"
   ]
  },
  {
   "cell_type": "code",
   "execution_count": 35,
   "metadata": {},
   "outputs": [],
   "source": [
    "ratings.drop(ratings[ratings['num_pages'] <= 10.0].index, inplace=True)\n",
    "ratings.drop(ratings[ratings['num_pages'] >= 1000.0].index, inplace=True)"
   ]
  },
  {
   "cell_type": "code",
   "execution_count": 36,
   "metadata": {},
   "outputs": [
    {
     "data": {
      "text/plain": [
       "(309344, 18)"
      ]
     },
     "execution_count": 36,
     "metadata": {},
     "output_type": "execute_result"
    }
   ],
   "source": [
    "ratings.shape"
   ]
  },
  {
   "cell_type": "code",
   "execution_count": 37,
   "metadata": {},
   "outputs": [
    {
     "data": {
      "text/plain": [
       "(100000, 18)"
      ]
     },
     "execution_count": 37,
     "metadata": {},
     "output_type": "execute_result"
    }
   ],
   "source": [
    "# select the first 100,000 cases to use for the RS, as mentioned in the FAQs the way this is done doesn't matter\n",
    "ratings_100k = ratings.head(100000)\n",
    "\n",
    "# verify size\n",
    "ratings_100k.shape"
   ]
  },
  {
   "cell_type": "code",
   "execution_count": 38,
   "metadata": {},
   "outputs": [],
   "source": [
    "# turns the ratings into a .csv file to allow for the use in the command line interface\n",
    "ratings_100k.to_csv('ratings_clean_100k.csv')"
   ]
  },
  {
   "cell_type": "code",
   "execution_count": 110,
   "metadata": {},
   "outputs": [],
   "source": [
    "from sklearn.model_selection import train_test_split\n",
    "# perform the train/test split of 80/20\n",
    "\n",
    "train_df_1, test_df_1 = train_test_split(ratings_100k, train_size=0.8,test_size=0.2)"
   ]
  },
  {
   "cell_type": "markdown",
   "metadata": {},
   "source": [
    "## Content-based filtering\n",
    "\n",
    "Analyses features od the items/dpcuments, that have been previously rated by a user. Then builds a model of user interests\n",
    "\n",
    "Vector space model; with selection metric and combination of feature vectors to then create a weighting scheme for the cbf.\n",
    "\n",
    "To represent this VSM; use the TF-IDF weighting scheme, use normalisation so that all documents are represented by vectors with weights in a 0,1 interval.  \n",
    "\n",
    "Filtering component; to predict ratings for new components, need user profile to predict ratings, what extent the user will like the unseen items  (how the comparison between the items is close) \n",
    "\n",
    "Can use a similariity / distance measure to find the nearest neighbours. E.g. cosine, pearson correlation, euclidean, etc. Look at a few + prevouos literature to find out the best measure "
   ]
  },
  {
   "cell_type": "code",
   "execution_count": 132,
   "metadata": {},
   "outputs": [],
   "source": [
    "# create a copy of the training ratings\n",
    "content_ratings = ratings_100k.copy()"
   ]
  },
  {
   "cell_type": "code",
   "execution_count": 123,
   "metadata": {},
   "outputs": [],
   "source": [
    "# takes about 12s\n",
    "def create_tf_idf(data):\n",
    "\n",
    "    # tokenize the text data e.g. descprtion\n",
    "    # gets rid of the english stop words, to help give a better decsription\n",
    "    tf_idf = TfidfVectorizer(stop_words='english')\n",
    "\n",
    "    # fit data and transform to tdidf matrix\n",
    "    tf_idf_matrix = tf_idf.fit_transform(data['book_description'])\n",
    "\n",
    "    return tf_idf_matrix"
   ]
  },
  {
   "cell_type": "markdown",
   "metadata": {},
   "source": [
    "To help with the cold start problem, we will recommend the books with the highest weighted average to the user"
   ]
  },
  {
   "cell_type": "code",
   "execution_count": 181,
   "metadata": {},
   "outputs": [],
   "source": [
    "# cold start avoidance in the case of a new user\n",
    "def cold_start_avoidance(data, n):\n",
    "    # sorts the most popular books via weighted avg, to help with the good books with less reviews\n",
    "    popular_books = data.sort_values(by='weighted_avg', ascending=False)\n",
    "    # gets rid of any duplicates\n",
    "    popular_books = popular_books.drop_duplicates(subset='title_without_series')\n",
    "    # gets the top n books\n",
    "    popular_n_books = popular_books.head(n)[['book_id', 'title_without_series']]\n",
    "    # turns into dataframe for easy of use and consistency\n",
    "    df = pd.DataFrame(popular_n_books, columns=['book_id', 'title_without_series'])\n",
    "    return df"
   ]
  },
  {
   "cell_type": "code",
   "execution_count": 591,
   "metadata": {},
   "outputs": [],
   "source": [
    "def get_recommendations(user_id, data, n):\n",
    "    # first checks if the user is registered/ in the system:\n",
    "    if user_id not in data['user_id'].unique():\n",
    "        # if not we return the best books\n",
    "        return cold_start_avoidance(data, n)\n",
    "    \n",
    "    # creates the tf_idf matrix dependent on the data given\n",
    "    tf_idf_matrix = create_tf_idf(data)\n",
    "\n",
    "    # Extract books liked by the user, if the id is valid \n",
    "    user_books = data[data['user_id'] == user_id]['title_without_series'].tolist()\n",
    "        \n",
    "    # create dataframe for storing recommmendations\n",
    "    recommendations_df = pd.DataFrame(columns=['Cosine Similarity'])\n",
    "\n",
    "    # Keep track of recommended books to avoid duplicates\n",
    "    recommended_books_set = set()\n",
    "\n",
    "    # looks through each book liked by the user gets similar books based on cosine similarities\n",
    "    for book in user_books:\n",
    "        # aggregates td-idf vectors for each book\n",
    "        liked_book_idx = data.index[(data['title_without_series'] == book) & (data['user_id'] == user_id)].tolist()[0]\n",
    "        liked_book_tfidf = tf_idf_matrix[liked_book_idx]\n",
    "\n",
    "        # calculate cosine similarity of current book with the rest of the books\n",
    "        cosine_similarities = cosine_similarity(liked_book_tfidf, tf_idf_matrix).flatten()\n",
    "\n",
    "        # indices of 'close' books\n",
    "        sim_indices = cosine_similarities.argsort()[::-1]\n",
    "\n",
    "        # gets rid of any books already liked by the user\n",
    "        sim_indices = [i for i in sim_indices if (data['title_without_series'].iloc[i] not in user_books) and \n",
    "                                                (data['title_without_series'].iloc[i] not in recommended_books_set)]\n",
    "\n",
    "        # add the top n books to the dataframe\n",
    "        top_recommendations = data['title_without_series'].iloc[sim_indices].tolist()\n",
    "        cosine_sim_values = cosine_similarities[sim_indices]\n",
    "        book_id = data['book_id'].iloc[sim_indices].tolist()\n",
    "\n",
    "        recommendations_df = recommendations_df.append(pd.DataFrame({'book_id':book_id, 'title_without_series': top_recommendations, 'Cosine Similarity': cosine_sim_values}))\n",
    "\n",
    "        recommended_books_set.update(top_recommendations)\n",
    "\n",
    "    # sorts recommendations via cosine similarity\n",
    "    recommendations_df = recommendations_df.sort_values(by=['Cosine Similarity'], ascending=False)\n",
    "\n",
    "    # gets top n unique recommendations\n",
    "    unique_recommendations = recommendations_df.drop_duplicates(subset=['title_without_series']).head(n)\n",
    "    \n",
    "    # gets rid of cosine similarity, to allow for ease of use for user\n",
    "    unique_recommendations = unique_recommendations.drop('Cosine Similarity', axis=1)\n",
    "    return unique_recommendations"
   ]
  },
  {
   "cell_type": "code",
   "execution_count": 593,
   "metadata": {},
   "outputs": [],
   "source": [
    "# Example usage\n",
    "user_id = '9b808f1cf7160f03647fb8b8aefd4ffb'\n",
    "reced = get_recommendations(user_id, content_ratings, 10)"
   ]
  },
  {
   "cell_type": "code",
   "execution_count": 594,
   "metadata": {},
   "outputs": [
    {
     "data": {
      "text/html": [
       "<div>\n",
       "<style scoped>\n",
       "    .dataframe tbody tr th:only-of-type {\n",
       "        vertical-align: middle;\n",
       "    }\n",
       "\n",
       "    .dataframe tbody tr th {\n",
       "        vertical-align: top;\n",
       "    }\n",
       "\n",
       "    .dataframe thead th {\n",
       "        text-align: right;\n",
       "    }\n",
       "</style>\n",
       "<table border=\"1\" class=\"dataframe\">\n",
       "  <thead>\n",
       "    <tr style=\"text-align: right;\">\n",
       "      <th></th>\n",
       "      <th>book_id</th>\n",
       "      <th>title_without_series</th>\n",
       "    </tr>\n",
       "  </thead>\n",
       "  <tbody>\n",
       "    <tr>\n",
       "      <th>0</th>\n",
       "      <td>251808.0</td>\n",
       "      <td>The Mosaic Crimes (Dante Alighieri, #2)</td>\n",
       "    </tr>\n",
       "    <tr>\n",
       "      <th>34</th>\n",
       "      <td>259042.0</td>\n",
       "      <td>The Dante Club</td>\n",
       "    </tr>\n",
       "    <tr>\n",
       "      <th>41</th>\n",
       "      <td>29430732.0</td>\n",
       "      <td>Kill the Father</td>\n",
       "    </tr>\n",
       "    <tr>\n",
       "      <th>43</th>\n",
       "      <td>3890688.0</td>\n",
       "      <td>Never Say Sty (Kendra Ballantyne, Pet-Sitter M...</td>\n",
       "    </tr>\n",
       "    <tr>\n",
       "      <th>46</th>\n",
       "      <td>24450451.0</td>\n",
       "      <td>Inferno: A Novel Unabridged Edition</td>\n",
       "    </tr>\n",
       "    <tr>\n",
       "      <th>50</th>\n",
       "      <td>36070517.0</td>\n",
       "      <td>Tramps and Thieves (Murder and Mayhem, #2)</td>\n",
       "    </tr>\n",
       "    <tr>\n",
       "      <th>52</th>\n",
       "      <td>25926794.0</td>\n",
       "      <td>Duce (World's End #1)</td>\n",
       "    </tr>\n",
       "    <tr>\n",
       "      <th>67</th>\n",
       "      <td>30269117.0</td>\n",
       "      <td>Inferno</td>\n",
       "    </tr>\n",
       "    <tr>\n",
       "      <th>70</th>\n",
       "      <td>27161832.0</td>\n",
       "      <td>We Were Kings</td>\n",
       "    </tr>\n",
       "    <tr>\n",
       "      <th>79</th>\n",
       "      <td>24485919.0</td>\n",
       "      <td>The Last Honeytrap (Florence Love, #1)</td>\n",
       "    </tr>\n",
       "  </tbody>\n",
       "</table>\n",
       "</div>"
      ],
      "text/plain": [
       "       book_id                               title_without_series\n",
       "0     251808.0            The Mosaic Crimes (Dante Alighieri, #2)\n",
       "34    259042.0                                     The Dante Club\n",
       "41  29430732.0                                    Kill the Father\n",
       "43   3890688.0  Never Say Sty (Kendra Ballantyne, Pet-Sitter M...\n",
       "46  24450451.0                Inferno: A Novel Unabridged Edition\n",
       "50  36070517.0         Tramps and Thieves (Murder and Mayhem, #2)\n",
       "52  25926794.0                              Duce (World's End #1)\n",
       "67  30269117.0                                            Inferno\n",
       "70  27161832.0                                      We Were Kings\n",
       "79  24485919.0             The Last Honeytrap (Florence Love, #1)"
      ]
     },
     "execution_count": 594,
     "metadata": {},
     "output_type": "execute_result"
    }
   ],
   "source": [
    "reced"
   ]
  },
  {
   "cell_type": "markdown",
   "metadata": {},
   "source": [
    "## Collaborative Filtering"
   ]
  },
  {
   "cell_type": "code",
   "execution_count": 142,
   "metadata": {},
   "outputs": [],
   "source": [
    "collab_ratings = ratings_100k.copy()"
   ]
  },
  {
   "cell_type": "code",
   "execution_count": 51,
   "metadata": {},
   "outputs": [
    {
     "name": "stdout",
     "output_type": "stream",
     "text": [
      "Requirement already satisfied: surprise in /Users/jacobdear/opt/anaconda3/lib/python3.8/site-packages (0.1)\n",
      "Requirement already satisfied: scikit-surprise in /Users/jacobdear/opt/anaconda3/lib/python3.8/site-packages (from surprise) (1.1.3)\n",
      "Requirement already satisfied: joblib>=1.0.0 in /Users/jacobdear/opt/anaconda3/lib/python3.8/site-packages (from scikit-surprise->surprise) (1.0.1)\n",
      "Requirement already satisfied: numpy>=1.17.3 in /Users/jacobdear/opt/anaconda3/lib/python3.8/site-packages (from scikit-surprise->surprise) (1.20.1)\n",
      "Requirement already satisfied: scipy>=1.3.2 in /Users/jacobdear/opt/anaconda3/lib/python3.8/site-packages (from scikit-surprise->surprise) (1.6.2)\n",
      "\n",
      "\u001b[1m[\u001b[0m\u001b[34;49mnotice\u001b[0m\u001b[1;39;49m]\u001b[0m\u001b[39;49m A new release of pip is available: \u001b[0m\u001b[31;49m23.1.2\u001b[0m\u001b[39;49m -> \u001b[0m\u001b[32;49m23.3.2\u001b[0m\n",
      "\u001b[1m[\u001b[0m\u001b[34;49mnotice\u001b[0m\u001b[1;39;49m]\u001b[0m\u001b[39;49m To update, run: \u001b[0m\u001b[32;49mpip install --upgrade pip\u001b[0m\n",
      "Note: you may need to restart the kernel to use updated packages.\n"
     ]
    }
   ],
   "source": [
    "pip install surprise "
   ]
  },
  {
   "cell_type": "code",
   "execution_count": 339,
   "metadata": {},
   "outputs": [],
   "source": [
    "# for collab filtering use the suprise module to allow\n",
    "from surprise import SVD , SVDpp\n",
    "from surprise import Dataset, Reader\n",
    "from surprise.model_selection import train_test_split, cross_validate\n",
    "from surprise import accuracy"
   ]
  },
  {
   "cell_type": "markdown",
   "metadata": {},
   "source": [
    "adapted from this article; https://pub.aimind.so/implementing-a-collaborative-filtering-recommendation-system-using-surprise-a-step-by-step-guide-2e879a34e021"
   ]
  },
  {
   "cell_type": "code",
   "execution_count": 194,
   "metadata": {},
   "outputs": [],
   "source": [
    "re = Reader(rating_scale=(0.0,5.0))"
   ]
  },
  {
   "cell_type": "code",
   "execution_count": 195,
   "metadata": {},
   "outputs": [],
   "source": [
    "data = Dataset.load_from_df(collab_ratings[[\"user_id\", \"book_id\", \"book_average_rating\"]], re)"
   ]
  },
  {
   "cell_type": "code",
   "execution_count": 341,
   "metadata": {},
   "outputs": [],
   "source": [
    "# 80/20 split, can experiement and change\n",
    "trainset, testset = train_test_split(data, test_size=0.2)"
   ]
  },
  {
   "cell_type": "markdown",
   "metadata": {},
   "source": [
    "Comparison of SVD and SVD++ across 5 folds to see which is better"
   ]
  },
  {
   "cell_type": "code",
   "execution_count": 595,
   "metadata": {},
   "outputs": [
    {
     "name": "stdout",
     "output_type": "stream",
     "text": [
      "Evaluating RMSE of algorithm SVD on 5 split(s).\n",
      "\n",
      "                  Fold 1  Fold 2  Fold 3  Fold 4  Fold 5  Mean    Std     \n",
      "RMSE (testset)    0.1887  0.1840  0.1824  0.1866  0.1857  0.1855  0.0021  \n",
      "Fit time          1.30    1.27    1.24    1.33    1.25    1.28    0.03    \n",
      "Test time         0.14    0.13    22.14   0.13    0.13    4.53    8.80    \n"
     ]
    },
    {
     "data": {
      "text/plain": [
       "{'test_rmse': array([0.18865167, 0.18396849, 0.18242575, 0.18663097, 0.18565618]),\n",
       " 'fit_time': (1.3000288009643555,\n",
       "  1.2701051235198975,\n",
       "  1.2384250164031982,\n",
       "  1.3263790607452393,\n",
       "  1.2489640712738037),\n",
       " 'test_time': (0.13849806785583496,\n",
       "  0.13400602340698242,\n",
       "  22.1388521194458,\n",
       "  0.13197994232177734,\n",
       "  0.13136577606201172)}"
      ]
     },
     "execution_count": 595,
     "metadata": {},
     "output_type": "execute_result"
    }
   ],
   "source": [
    "algo = SVD()\n",
    "cross_validate(algo,data, measures=[\"RMSE\"], cv=5, verbose=True)"
   ]
  },
  {
   "cell_type": "code",
   "execution_count": 596,
   "metadata": {},
   "outputs": [
    {
     "name": "stdout",
     "output_type": "stream",
     "text": [
      "Evaluating RMSE of algorithm SVDpp on 5 split(s).\n",
      "\n",
      "                  Fold 1  Fold 2  Fold 3  Fold 4  Fold 5  Mean    Std     \n",
      "RMSE (testset)    0.1568  0.1568  0.1562  0.1580  0.1568  0.1569  0.0006  \n",
      "Fit time          1.73    1.74    1.74    1.84    1.84    1.78    0.05    \n",
      "Test time         0.45    0.47    11.68   0.55    0.47    2.72    4.48    \n"
     ]
    },
    {
     "data": {
      "text/plain": [
       "{'test_rmse': array([0.15683573, 0.15680932, 0.15615002, 0.15797296, 0.15677781]),\n",
       " 'fit_time': (1.7334482669830322,\n",
       "  1.7430388927459717,\n",
       "  1.7411158084869385,\n",
       "  1.8445050716400146,\n",
       "  1.8381340503692627),\n",
       " 'test_time': (0.45234179496765137,\n",
       "  0.46922802925109863,\n",
       "  11.683666944503784,\n",
       "  0.5468008518218994,\n",
       "  0.46802520751953125)}"
      ]
     },
     "execution_count": 596,
     "metadata": {},
     "output_type": "execute_result"
    }
   ],
   "source": [
    "algo = SVDpp()\n",
    "cross_validate(algo,data, measures=[\"RMSE\"], cv=5, verbose=True)"
   ]
  },
  {
   "cell_type": "code",
   "execution_count": 597,
   "metadata": {},
   "outputs": [
    {
     "data": {
      "text/plain": [
       "<surprise.prediction_algorithms.matrix_factorization.SVDpp at 0x7f7c62e9be50>"
      ]
     },
     "execution_count": 597,
     "metadata": {},
     "output_type": "execute_result"
    }
   ],
   "source": [
    "# trains the algorithm with the test set\n",
    "algo.fit(trainset)"
   ]
  },
  {
   "cell_type": "code",
   "execution_count": 598,
   "metadata": {},
   "outputs": [],
   "source": [
    "# gets the predictions by evaulating the testset to the model\n",
    "predictions = algo.test(testset)"
   ]
  },
  {
   "cell_type": "code",
   "execution_count": 599,
   "metadata": {},
   "outputs": [],
   "source": [
    "# allows for the use in the the cli interface\n",
    "pred = pd.DataFrame(predictions)\n",
    "pred.to_csv('predictions_collab.csv')"
   ]
  },
  {
   "cell_type": "code",
   "execution_count": 610,
   "metadata": {},
   "outputs": [],
   "source": [
    "def make_recommendations(data, n, predictions, user_id):\n",
    "    # turns predictions into a dataframe for easy use\n",
    "    pred = pd.DataFrame(predictions)\n",
    "    # gets ratings for only specific user\n",
    "    user_ratings = data[data['user_id'] == user_id]\n",
    "    \n",
    "    # merges predictions with the ratings on user_id and book_id\n",
    "    merged_data = pd.merge(pred, user_ratings, left_on='iid', right_on='book_id')\n",
    "\n",
    "    # sorts merged dataframe based on the estimated ratings\n",
    "    merged_data.sort_values(by=['est'], inplace=True, ascending=False)\n",
    "    \n",
    "    unique_recommendations = []\n",
    "    # looks through each prediction\n",
    "    for book_id in merged_data['iid']:\n",
    "        if book_id not in unique_recommendations:\n",
    "            # adds to list if it is unique\n",
    "            unique_recommendations.append(book_id)\n",
    "\n",
    "    # makes a dataframe of the books and corresponding titles, to keep consistent with content based\n",
    "    corresponding_titles = data[data['book_id'].isin(unique_recommendations)][['book_id', 'title_without_series']].drop_duplicates()\n",
    "\n",
    "    return pd.DataFrame(corresponding_titles)"
   ]
  },
  {
   "cell_type": "code",
   "execution_count": 611,
   "metadata": {},
   "outputs": [],
   "source": [
    "# example usage\n",
    "user_id = '9b808f1cf7160f03647fb8b8aefd4ffb'\n",
    "rec = make_recommendations(collab_ratings, 10, pred, user_id)"
   ]
  },
  {
   "cell_type": "code",
   "execution_count": 601,
   "metadata": {},
   "outputs": [
    {
     "name": "stdout",
     "output_type": "stream",
     "text": [
      "RMSE: 0.1578\n"
     ]
    },
    {
     "data": {
      "text/plain": [
       "0.15776811092415596"
      ]
     },
     "execution_count": 601,
     "metadata": {},
     "output_type": "execute_result"
    }
   ],
   "source": [
    "# Print the performance metrics -> low rmse, so shows that the recommender method makes good predictions as the rmse is low!\n",
    "accuracy.rmse(predictions)"
   ]
  },
  {
   "cell_type": "code",
   "execution_count": 612,
   "metadata": {},
   "outputs": [
    {
     "data": {
      "text/html": [
       "<div>\n",
       "<style scoped>\n",
       "    .dataframe tbody tr th:only-of-type {\n",
       "        vertical-align: middle;\n",
       "    }\n",
       "\n",
       "    .dataframe tbody tr th {\n",
       "        vertical-align: top;\n",
       "    }\n",
       "\n",
       "    .dataframe thead th {\n",
       "        text-align: right;\n",
       "    }\n",
       "</style>\n",
       "<table border=\"1\" class=\"dataframe\">\n",
       "  <thead>\n",
       "    <tr style=\"text-align: right;\">\n",
       "      <th></th>\n",
       "      <th>book_id</th>\n",
       "      <th>title_without_series</th>\n",
       "    </tr>\n",
       "  </thead>\n",
       "  <tbody>\n",
       "    <tr>\n",
       "      <th>11494</th>\n",
       "      <td>25651905</td>\n",
       "      <td>Why You Were Taken (When Tomorrow Calls #1)</td>\n",
       "    </tr>\n",
       "    <tr>\n",
       "      <th>18937</th>\n",
       "      <td>34700191</td>\n",
       "      <td>Undercurrent</td>\n",
       "    </tr>\n",
       "    <tr>\n",
       "      <th>23073</th>\n",
       "      <td>27845484</td>\n",
       "      <td>Eve: A Christmas Ghost Story (Psychic Surveys,...</td>\n",
       "    </tr>\n",
       "    <tr>\n",
       "      <th>23308</th>\n",
       "      <td>28821606</td>\n",
       "      <td>The Last Thing I Remember</td>\n",
       "    </tr>\n",
       "    <tr>\n",
       "      <th>27278</th>\n",
       "      <td>30242428</td>\n",
       "      <td>Bloodwalker</td>\n",
       "    </tr>\n",
       "    <tr>\n",
       "      <th>32250</th>\n",
       "      <td>23664378</td>\n",
       "      <td>Guilt</td>\n",
       "    </tr>\n",
       "    <tr>\n",
       "      <th>52401</th>\n",
       "      <td>28351603</td>\n",
       "      <td>Twisted Justice</td>\n",
       "    </tr>\n",
       "    <tr>\n",
       "      <th>96085</th>\n",
       "      <td>35480285</td>\n",
       "      <td>A Deadly Game</td>\n",
       "    </tr>\n",
       "  </tbody>\n",
       "</table>\n",
       "</div>"
      ],
      "text/plain": [
       "        book_id                               title_without_series\n",
       "11494  25651905        Why You Were Taken (When Tomorrow Calls #1)\n",
       "18937  34700191                                       Undercurrent\n",
       "23073  27845484  Eve: A Christmas Ghost Story (Psychic Surveys,...\n",
       "23308  28821606                          The Last Thing I Remember\n",
       "27278  30242428                                        Bloodwalker\n",
       "32250  23664378                                              Guilt\n",
       "52401  28351603                                    Twisted Justice\n",
       "96085  35480285                                      A Deadly Game"
      ]
     },
     "execution_count": 612,
     "metadata": {},
     "output_type": "execute_result"
    }
   ],
   "source": [
    "rec"
   ]
  },
  {
   "cell_type": "markdown",
   "metadata": {},
   "source": [
    "## Hybrid System\n",
    "\n",
    "Combine the 2 functions and then pick the best values\n",
    "\n",
    "https://thecleverprogrammer.com/2023/06/05/hybrid-recommendation-system-using-python/"
   ]
  },
  {
   "cell_type": "code",
   "execution_count": 613,
   "metadata": {},
   "outputs": [],
   "source": [
    "def hybrid_recommendations(user_id, data, n, predictions):\n",
    "    # calls the collaborative and content based filtering functions\n",
    "    content = get_recommendations(user_id, data, n)\n",
    "    collab = make_recommendations(data, n, predictions, user_id)\n",
    "    # join the 2 dataframes\n",
    "    hybrid = pd.concat([content, collab])\n",
    "     \n",
    "    # use a weighted system based on number of ratings, to decide on the weighting to use for the hybrid approach\n",
    "\n",
    "    # inspired by this paper: https://ieeexplore.ieee.org/stamp/stamp.jsp?tp=&arnumber=9590147 \n",
    "\n",
    "    v = data['ratings_count']\n",
    "    R = data['book_average_rating']\n",
    "\n",
    "    C = data['book_average_rating'].mean()\n",
    "\n",
    "    m = data['ratings_count']>25\n",
    "    \n",
    "    data['weighted_avg'] = ((R*v) + (C*m)) / (v+m)\n",
    "\n",
    "    # change column type of book_id to be a integer, as it was a float, so hard to look up the weighted average\n",
    "    hybrid['book_id'] = hybrid['book_id'].astype(int)\n",
    "    \n",
    "    # look at how to use the book_id to then find the weighted average and then add this to hybrid table \n",
    "    id_weight = data.set_index('book_id')['weighted_avg'].to_dict()\n",
    "\n",
    "    # maps the weighted_avg values to the 'book_id' column\n",
    "    hybrid['weighted_avg'] = hybrid['book_id'].map(id_weight)\n",
    "\n",
    "    # sorts the dataframe by 'weighted_avg'\n",
    "    hybrid_sorted = hybrid.sort_values(by='weighted_avg', ascending=False)\n",
    "\n",
    "    # Select the top n rows with unique values\n",
    "    top_n_unique_values = hybrid_sorted.head(n).drop_duplicates(subset='title_without_series')\n",
    "    # gets rid of the weighted_avg column to allow for user friendly format\n",
    "    values = top_n_unique_values.drop('weighted_avg',axis=1)\n",
    "\n",
    "    return values"
   ]
  },
  {
   "cell_type": "code",
   "execution_count": 615,
   "metadata": {},
   "outputs": [
    {
     "name": "stderr",
     "output_type": "stream",
     "text": [
      "<ipython-input-613-73f4adf0779d>:19: SettingWithCopyWarning: \n",
      "A value is trying to be set on a copy of a slice from a DataFrame.\n",
      "Try using .loc[row_indexer,col_indexer] = value instead\n",
      "\n",
      "See the caveats in the documentation: https://pandas.pydata.org/pandas-docs/stable/user_guide/indexing.html#returning-a-view-versus-a-copy\n",
      "  data['weighted_avg'] = ((R*v) + (C*m)) / (v+m)\n"
     ]
    }
   ],
   "source": [
    "# example usage\n",
    "user_id = '9b808f1cf7160f03647fb8b8aefd4ffb'\n",
    "n=10\n",
    "hybrid_recs = hybrid_recommendations(user_id, ratings_100k, n, predictions)"
   ]
  },
  {
   "cell_type": "code",
   "execution_count": 616,
   "metadata": {},
   "outputs": [
    {
     "data": {
      "text/html": [
       "<div>\n",
       "<style scoped>\n",
       "    .dataframe tbody tr th:only-of-type {\n",
       "        vertical-align: middle;\n",
       "    }\n",
       "\n",
       "    .dataframe tbody tr th {\n",
       "        vertical-align: top;\n",
       "    }\n",
       "\n",
       "    .dataframe thead th {\n",
       "        text-align: right;\n",
       "    }\n",
       "</style>\n",
       "<table border=\"1\" class=\"dataframe\">\n",
       "  <thead>\n",
       "    <tr style=\"text-align: right;\">\n",
       "      <th></th>\n",
       "      <th>book_id</th>\n",
       "      <th>title_without_series</th>\n",
       "    </tr>\n",
       "  </thead>\n",
       "  <tbody>\n",
       "    <tr>\n",
       "      <th>50</th>\n",
       "      <td>36070517</td>\n",
       "      <td>Tramps and Thieves (Murder and Mayhem, #2)</td>\n",
       "    </tr>\n",
       "    <tr>\n",
       "      <th>27278</th>\n",
       "      <td>30242428</td>\n",
       "      <td>Bloodwalker</td>\n",
       "    </tr>\n",
       "    <tr>\n",
       "      <th>23073</th>\n",
       "      <td>27845484</td>\n",
       "      <td>Eve: A Christmas Ghost Story (Psychic Surveys,...</td>\n",
       "    </tr>\n",
       "    <tr>\n",
       "      <th>52401</th>\n",
       "      <td>28351603</td>\n",
       "      <td>Twisted Justice</td>\n",
       "    </tr>\n",
       "    <tr>\n",
       "      <th>96085</th>\n",
       "      <td>35480285</td>\n",
       "      <td>A Deadly Game</td>\n",
       "    </tr>\n",
       "    <tr>\n",
       "      <th>11494</th>\n",
       "      <td>25651905</td>\n",
       "      <td>Why You Were Taken (When Tomorrow Calls #1)</td>\n",
       "    </tr>\n",
       "    <tr>\n",
       "      <th>41</th>\n",
       "      <td>29430732</td>\n",
       "      <td>Kill the Father</td>\n",
       "    </tr>\n",
       "    <tr>\n",
       "      <th>32250</th>\n",
       "      <td>23664378</td>\n",
       "      <td>Guilt</td>\n",
       "    </tr>\n",
       "    <tr>\n",
       "      <th>18937</th>\n",
       "      <td>34700191</td>\n",
       "      <td>Undercurrent</td>\n",
       "    </tr>\n",
       "    <tr>\n",
       "      <th>67</th>\n",
       "      <td>30269117</td>\n",
       "      <td>Inferno</td>\n",
       "    </tr>\n",
       "  </tbody>\n",
       "</table>\n",
       "</div>"
      ],
      "text/plain": [
       "        book_id                               title_without_series\n",
       "50     36070517         Tramps and Thieves (Murder and Mayhem, #2)\n",
       "27278  30242428                                        Bloodwalker\n",
       "23073  27845484  Eve: A Christmas Ghost Story (Psychic Surveys,...\n",
       "52401  28351603                                    Twisted Justice\n",
       "96085  35480285                                      A Deadly Game\n",
       "11494  25651905        Why You Were Taken (When Tomorrow Calls #1)\n",
       "41     29430732                                    Kill the Father\n",
       "32250  23664378                                              Guilt\n",
       "18937  34700191                                       Undercurrent\n",
       "67     30269117                                            Inferno"
      ]
     },
     "execution_count": 616,
     "metadata": {},
     "output_type": "execute_result"
    }
   ],
   "source": [
    "hybrid_recs"
   ]
  },
  {
   "cell_type": "markdown",
   "metadata": {},
   "source": [
    "Evaulation metric, precision@k"
   ]
  },
  {
   "cell_type": "code",
   "execution_count": 618,
   "metadata": {},
   "outputs": [],
   "source": [
    "def precision_at_k2(recommendations,k, user_id):\n",
    "    # get items that are relevant to user \n",
    "    user_rated_items = ratings_100k[ratings_100k['user_id'] == user_id]['book_id'].tolist()\n",
    "    # then finds all the common books between the ones that the user has previously rated and then ones that the recommender has predicted\n",
    "    # then divides by, the number of recommendations to get this value\n",
    "    precision = len(set(recommendations['book_id']) & set(user_rated_items)) / k\n",
    "    return precision"
   ]
  },
  {
   "cell_type": "code",
   "execution_count": 619,
   "metadata": {},
   "outputs": [
    {
     "name": "stdout",
     "output_type": "stream",
     "text": [
      "Precision@10 for hybrid recommendations: 0.7\n"
     ]
    }
   ],
   "source": [
    "precision_hybrid = precision_at_k2(hybrid_recs,n,user_id)\n",
    "print(f'Precision@{n} for hybrid recommendations: {precision_hybrid}')"
   ]
  },
  {
   "cell_type": "markdown",
   "metadata": {},
   "source": [
    "note low or 0 precision means that no relvant items that have been predicted to the user, hence a bad rs\n",
    "\n"
   ]
  },
  {
   "cell_type": "markdown",
   "metadata": {},
   "source": [
    "work out how to compare the recommendations, this will allow us to then return the top n for the hybrid function. \n",
    "\n",
    "Then work on the methods for rs2\n",
    "\n",
    "look at previous literature to work out what ways have been considered? maybe weighted "
   ]
  },
  {
   "cell_type": "markdown",
   "metadata": {},
   "source": [
    "# RS2 - Deep Learning + NLP approach "
   ]
  },
  {
   "cell_type": "code",
   "execution_count": 63,
   "metadata": {},
   "outputs": [],
   "source": [
    "# creates a copy of the 100k sample to allow for any preperation needed for rs2\n",
    "rs2_ratings = ratings_100k.copy()"
   ]
  },
  {
   "cell_type": "code",
   "execution_count": 590,
   "metadata": {},
   "outputs": [
    {
     "data": {
      "text/plain": [
       "(100000, 20)"
      ]
     },
     "execution_count": 590,
     "metadata": {},
     "output_type": "execute_result"
    }
   ],
   "source": [
    "rs2_ratings.shape"
   ]
  },
  {
   "cell_type": "code",
   "execution_count": 65,
   "metadata": {},
   "outputs": [
    {
     "data": {
      "text/html": [
       "<div>\n",
       "<style scoped>\n",
       "    .dataframe tbody tr th:only-of-type {\n",
       "        vertical-align: middle;\n",
       "    }\n",
       "\n",
       "    .dataframe tbody tr th {\n",
       "        vertical-align: top;\n",
       "    }\n",
       "\n",
       "    .dataframe thead th {\n",
       "        text-align: right;\n",
       "    }\n",
       "</style>\n",
       "<table border=\"1\" class=\"dataframe\">\n",
       "  <thead>\n",
       "    <tr style=\"text-align: right;\">\n",
       "      <th></th>\n",
       "      <th>book_id</th>\n",
       "      <th>title_without_series</th>\n",
       "      <th>book_description</th>\n",
       "      <th>publication_year</th>\n",
       "      <th>publisher</th>\n",
       "      <th>ratings_count</th>\n",
       "      <th>book_average_rating</th>\n",
       "      <th>cover_page</th>\n",
       "      <th>book_url</th>\n",
       "      <th>is_ebook</th>\n",
       "      <th>num_pages</th>\n",
       "      <th>country_code</th>\n",
       "      <th>language_code</th>\n",
       "      <th>user_id</th>\n",
       "      <th>review_text</th>\n",
       "      <th>review_id</th>\n",
       "      <th>n_votes</th>\n",
       "      <th>user_rating</th>\n",
       "      <th>weighted_avg</th>\n",
       "    </tr>\n",
       "  </thead>\n",
       "  <tbody>\n",
       "    <tr>\n",
       "      <th>0</th>\n",
       "      <td>6066814</td>\n",
       "      <td>Crowner Royal (Crowner John Mystery, #13)</td>\n",
       "      <td>London, 1196. At the command of Richard the Li...</td>\n",
       "      <td>2009.0</td>\n",
       "      <td>Simon &amp; Schuster UK</td>\n",
       "      <td>186</td>\n",
       "      <td>3.93</td>\n",
       "      <td>https://images.gr-assets.com/books/1328724803m...</td>\n",
       "      <td>https://www.goodreads.com/book/show/6066814-cr...</td>\n",
       "      <td>False</td>\n",
       "      <td>400.0</td>\n",
       "      <td>US</td>\n",
       "      <td>en-US</td>\n",
       "      <td>9ab00cb54e02704c5a7bd5ca90564e2e</td>\n",
       "      <td>I enjoyed this book. It kept me guessing until...</td>\n",
       "      <td>8ee2d0644aa02cdf9a40dde4adaade04</td>\n",
       "      <td>0</td>\n",
       "      <td>5</td>\n",
       "      <td>3.929339</td>\n",
       "    </tr>\n",
       "    <tr>\n",
       "      <th>1</th>\n",
       "      <td>29074697</td>\n",
       "      <td>The Slaughtered Virgin of Zenopolis (Inspector...</td>\n",
       "      <td>BATHS, BANKS AND ROMAN INSURRECTION\\nDetective...</td>\n",
       "      <td>2011.0</td>\n",
       "      <td>Amazon Digital Services</td>\n",
       "      <td>192</td>\n",
       "      <td>3.49</td>\n",
       "      <td>https://s.gr-assets.com/assets/nophoto/book/11...</td>\n",
       "      <td>https://www.goodreads.com/book/show/29074697-t...</td>\n",
       "      <td>True</td>\n",
       "      <td>304.0</td>\n",
       "      <td>US</td>\n",
       "      <td>eng</td>\n",
       "      <td>42dabb3a33d9a437387496a2dd50a247</td>\n",
       "      <td>It seems to take place in a parallel world ful...</td>\n",
       "      <td>c0e3b3879264cb7a888c5da4f5bf25c4</td>\n",
       "      <td>0</td>\n",
       "      <td>2</td>\n",
       "      <td>3.491639</td>\n",
       "    </tr>\n",
       "    <tr>\n",
       "      <th>2</th>\n",
       "      <td>1902202</td>\n",
       "      <td>Dead in the Morning (Patrick Grant, #1)</td>\n",
       "      <td>Gerald breezily introduced his wife, Helen, to...</td>\n",
       "      <td>1975.0</td>\n",
       "      <td>Ulverscroft</td>\n",
       "      <td>52</td>\n",
       "      <td>3.30</td>\n",
       "      <td>https://s.gr-assets.com/assets/nophoto/book/11...</td>\n",
       "      <td>https://www.goodreads.com/book/show/1902202.De...</td>\n",
       "      <td>False</td>\n",
       "      <td>304.0</td>\n",
       "      <td>US</td>\n",
       "      <td>en-US</td>\n",
       "      <td>1e7bca7d5f8e3d6460320704c423c12e</td>\n",
       "      <td>Lively</td>\n",
       "      <td>22d5b7a4c8c7a48ec09b8779ecc76221</td>\n",
       "      <td>0</td>\n",
       "      <td>4</td>\n",
       "      <td>3.309555</td>\n",
       "    </tr>\n",
       "    <tr>\n",
       "      <th>3</th>\n",
       "      <td>1902202</td>\n",
       "      <td>Dead in the Morning (Patrick Grant, #1)</td>\n",
       "      <td>Gerald breezily introduced his wife, Helen, to...</td>\n",
       "      <td>1975.0</td>\n",
       "      <td>Ulverscroft</td>\n",
       "      <td>52</td>\n",
       "      <td>3.30</td>\n",
       "      <td>https://s.gr-assets.com/assets/nophoto/book/11...</td>\n",
       "      <td>https://www.goodreads.com/book/show/1902202.De...</td>\n",
       "      <td>False</td>\n",
       "      <td>304.0</td>\n",
       "      <td>US</td>\n",
       "      <td>en-US</td>\n",
       "      <td>6a352b99747118883209c79d4d1f587d</td>\n",
       "      <td>I'm always trying to find the perfect mystery ...</td>\n",
       "      <td>0b104fb43b46e65758a1837450fa90d0</td>\n",
       "      <td>0</td>\n",
       "      <td>4</td>\n",
       "      <td>3.309555</td>\n",
       "    </tr>\n",
       "    <tr>\n",
       "      <th>4</th>\n",
       "      <td>2805495</td>\n",
       "      <td>Wycliffe and the Cycle of Death</td>\n",
       "      <td>A respectable bookseller is found bludgeoned a...</td>\n",
       "      <td>2001.0</td>\n",
       "      <td>Orion</td>\n",
       "      <td>58</td>\n",
       "      <td>3.61</td>\n",
       "      <td>https://images.gr-assets.com/books/1328819096m...</td>\n",
       "      <td>https://www.goodreads.com/book/show/2805495-wy...</td>\n",
       "      <td>False</td>\n",
       "      <td>320.0</td>\n",
       "      <td>US</td>\n",
       "      <td>en-US</td>\n",
       "      <td>5c4fd56b7e95eb4d92ee8814b883eab8</td>\n",
       "      <td>I enjoy the Wycliffe books,simpley because,the...</td>\n",
       "      <td>cc5598497557cd09bdd6b6246104bf99</td>\n",
       "      <td>0</td>\n",
       "      <td>4</td>\n",
       "      <td>3.613329</td>\n",
       "    </tr>\n",
       "  </tbody>\n",
       "</table>\n",
       "</div>"
      ],
      "text/plain": [
       "    book_id                               title_without_series  \\\n",
       "0   6066814          Crowner Royal (Crowner John Mystery, #13)   \n",
       "1  29074697  The Slaughtered Virgin of Zenopolis (Inspector...   \n",
       "2   1902202            Dead in the Morning (Patrick Grant, #1)   \n",
       "3   1902202            Dead in the Morning (Patrick Grant, #1)   \n",
       "4   2805495                    Wycliffe and the Cycle of Death   \n",
       "\n",
       "                                    book_description  publication_year  \\\n",
       "0  London, 1196. At the command of Richard the Li...            2009.0   \n",
       "1  BATHS, BANKS AND ROMAN INSURRECTION\\nDetective...            2011.0   \n",
       "2  Gerald breezily introduced his wife, Helen, to...            1975.0   \n",
       "3  Gerald breezily introduced his wife, Helen, to...            1975.0   \n",
       "4  A respectable bookseller is found bludgeoned a...            2001.0   \n",
       "\n",
       "                 publisher  ratings_count  book_average_rating  \\\n",
       "0      Simon & Schuster UK            186                 3.93   \n",
       "1  Amazon Digital Services            192                 3.49   \n",
       "2              Ulverscroft             52                 3.30   \n",
       "3              Ulverscroft             52                 3.30   \n",
       "4                    Orion             58                 3.61   \n",
       "\n",
       "                                          cover_page  \\\n",
       "0  https://images.gr-assets.com/books/1328724803m...   \n",
       "1  https://s.gr-assets.com/assets/nophoto/book/11...   \n",
       "2  https://s.gr-assets.com/assets/nophoto/book/11...   \n",
       "3  https://s.gr-assets.com/assets/nophoto/book/11...   \n",
       "4  https://images.gr-assets.com/books/1328819096m...   \n",
       "\n",
       "                                            book_url  is_ebook  num_pages  \\\n",
       "0  https://www.goodreads.com/book/show/6066814-cr...     False      400.0   \n",
       "1  https://www.goodreads.com/book/show/29074697-t...      True      304.0   \n",
       "2  https://www.goodreads.com/book/show/1902202.De...     False      304.0   \n",
       "3  https://www.goodreads.com/book/show/1902202.De...     False      304.0   \n",
       "4  https://www.goodreads.com/book/show/2805495-wy...     False      320.0   \n",
       "\n",
       "  country_code language_code                           user_id  \\\n",
       "0           US         en-US  9ab00cb54e02704c5a7bd5ca90564e2e   \n",
       "1           US           eng  42dabb3a33d9a437387496a2dd50a247   \n",
       "2           US         en-US  1e7bca7d5f8e3d6460320704c423c12e   \n",
       "3           US         en-US  6a352b99747118883209c79d4d1f587d   \n",
       "4           US         en-US  5c4fd56b7e95eb4d92ee8814b883eab8   \n",
       "\n",
       "                                         review_text  \\\n",
       "0  I enjoyed this book. It kept me guessing until...   \n",
       "1  It seems to take place in a parallel world ful...   \n",
       "2                                             Lively   \n",
       "3  I'm always trying to find the perfect mystery ...   \n",
       "4  I enjoy the Wycliffe books,simpley because,the...   \n",
       "\n",
       "                          review_id  n_votes  user_rating  weighted_avg  \n",
       "0  8ee2d0644aa02cdf9a40dde4adaade04        0            5      3.929339  \n",
       "1  c0e3b3879264cb7a888c5da4f5bf25c4        0            2      3.491639  \n",
       "2  22d5b7a4c8c7a48ec09b8779ecc76221        0            4      3.309555  \n",
       "3  0b104fb43b46e65758a1837450fa90d0        0            4      3.309555  \n",
       "4  cc5598497557cd09bdd6b6246104bf99        0            4      3.613329  "
      ]
     },
     "execution_count": 65,
     "metadata": {},
     "output_type": "execute_result"
    }
   ],
   "source": [
    "rs2_ratings.head()"
   ]
  },
  {
   "cell_type": "markdown",
   "metadata": {},
   "source": [
    "Text PreProcessing for Content based filtering rs2"
   ]
  },
  {
   "cell_type": "code",
   "execution_count": 620,
   "metadata": {},
   "outputs": [
    {
     "name": "stderr",
     "output_type": "stream",
     "text": [
      "[nltk_data] Downloading package stopwords to\n",
      "[nltk_data]     /Users/jacobdear/nltk_data...\n",
      "[nltk_data]   Package stopwords is already up-to-date!\n",
      "[nltk_data] Downloading package punkt to /Users/jacobdear/nltk_data...\n",
      "[nltk_data]   Package punkt is already up-to-date!\n"
     ]
    },
    {
     "data": {
      "text/plain": [
       "True"
      ]
     },
     "execution_count": 620,
     "metadata": {},
     "output_type": "execute_result"
    }
   ],
   "source": [
    "# imports necessary for RS2\n",
    "import nltk\n",
    "from nltk.corpus import stopwords\n",
    "from nltk import word_tokenize\n",
    "# removes stopwords in pre-processing\n",
    "nltk.download('stopwords')\n",
    "# uses this module for the text tokenization\n",
    "nltk.download('punkt')"
   ]
  },
  {
   "cell_type": "code",
   "execution_count": 621,
   "metadata": {},
   "outputs": [
    {
     "name": "stdout",
     "output_type": "stream",
     "text": [
      "{'own', 'his', 'do', 'any', 'during', 'out', 'just', 'while', 'of', 'yourselves', 'will', 'very', 'o', 'did', 'd', 'in', 'with', 'm', \"you'd\", 'is', \"hadn't\", 's', 'into', 'themselves', 'other', 'against', 'itself', 'not', 'only', 'because', \"weren't\", 'or', 'should', 'your', \"shouldn't\", \"you'll\", \"doesn't\", 'ours', 'if', 'hers', 'as', 'both', 'you', 'ourselves', 'some', 'haven', 'shouldn', 'off', \"wouldn't\", 'he', 'doing', 'wasn', 'once', \"you've\", 'hadn', 'where', \"isn't\", 'after', 'here', 'but', 'don', \"wasn't\", 'wouldn', 'hasn', 'by', 'to', \"you're\", 'how', 'theirs', \"aren't\", 'further', 'there', 'too', \"haven't\", \"it's\", 'about', \"won't\", 't', 'up', 'has', \"she's\", 'are', 'mustn', \"didn't\", 'doesn', 'for', 'why', 'below', 've', 'won', 'be', 'all', 'didn', \"mustn't\", 'no', 'yours', \"needn't\", 'a', 'mightn', 'on', 'yourself', 'between', \"don't\", 'herself', 'had', 'an', 'their', 'until', 'needn', 'her', 'being', 'at', 'what', 'same', 'each', 'having', 'most', 'when', 'whom', 'our', 'i', 'been', 'shan', 'we', 're', 'those', 'before', \"that'll\", 'were', 'this', 'under', 'more', 'which', 'they', 'was', 'my', 'from', 'down', 'myself', 'so', 'll', 'it', 'who', 'y', 'the', 'them', 'isn', 'himself', 'above', \"hasn't\", 'than', 'few', 'and', 'him', 'does', \"shan't\", 'she', \"couldn't\", 'am', 'couldn', 'aren', 'have', 'weren', 'me', 'these', \"mightn't\", 'then', 'nor', 'ain', 'over', 'its', \"should've\", 'again', 'such', 'that', 'through', 'can', 'now', 'ma'}\n"
     ]
    }
   ],
   "source": [
    "# creats a list of all stopwords from the nltk built-in library\n",
    "stop_words_tpp = set(stopwords.words('english'))\n",
    "print(stop_words_tpp)"
   ]
  },
  {
   "cell_type": "code",
   "execution_count": 90,
   "metadata": {},
   "outputs": [],
   "source": [
    "# adapted from https://github.com/ashok426/Recommender-System/blob/main/book_recommendation.ipynb \n",
    "rs2_ratings_copy = rs2_ratings.copy()\n",
    "def nlp_preprocessing(total_text, index, column):\n",
    "    if type(total_text) is not int:\n",
    "        string = \"\"\n",
    "        for words in total_text.split():\n",
    "            # remove the special chars in review like '\"#$@!%^&*()_+-~?>< etc.\n",
    "            word = (\"\".join(e for e in words if e.isalnum()))\n",
    "            # Conver all letters to lower-case\n",
    "            word = word.lower()\n",
    "            # stop-word removal\n",
    "            if not word in stop_words_tpp:\n",
    "                string += word + \" \"\n",
    "        # updates the specified row and colummn pair with the new text\n",
    "        rs2_ratings_copy[column][index] = string"
   ]
  },
  {
   "cell_type": "code",
   "execution_count": 91,
   "metadata": {},
   "outputs": [
    {
     "name": "stderr",
     "output_type": "stream",
     "text": [
      "<ipython-input-90-5b44579afbd4>:15: SettingWithCopyWarning: \n",
      "A value is trying to be set on a copy of a slice from a DataFrame\n",
      "\n",
      "See the caveats in the documentation: https://pandas.pydata.org/pandas-docs/stable/user_guide/indexing.html#returning-a-view-versus-a-copy\n",
      "  rs2_ratings_copy[column][index] = string\n"
     ]
    }
   ],
   "source": [
    "# perform it for the book_description -> will take about 2 mins\n",
    "for index, row in rs2_ratings.iterrows():\n",
    "    nlp_preprocessing(row['book_description'],index, 'book_description')"
   ]
  },
  {
   "cell_type": "code",
   "execution_count": 92,
   "metadata": {},
   "outputs": [
    {
     "name": "stderr",
     "output_type": "stream",
     "text": [
      "<ipython-input-90-5b44579afbd4>:15: SettingWithCopyWarning: \n",
      "A value is trying to be set on a copy of a slice from a DataFrame\n",
      "\n",
      "See the caveats in the documentation: https://pandas.pydata.org/pandas-docs/stable/user_guide/indexing.html#returning-a-view-versus-a-copy\n",
      "  rs2_ratings_copy[column][index] = string\n"
     ]
    }
   ],
   "source": [
    "# perform it for the book description\n",
    "for index, row in rs2_ratings.iterrows():\n",
    "    nlp_preprocessing(row['title_without_series'],index, 'title_without_series')"
   ]
  },
  {
   "cell_type": "code",
   "execution_count": 235,
   "metadata": {},
   "outputs": [
    {
     "data": {
      "text/html": [
       "<div>\n",
       "<style scoped>\n",
       "    .dataframe tbody tr th:only-of-type {\n",
       "        vertical-align: middle;\n",
       "    }\n",
       "\n",
       "    .dataframe tbody tr th {\n",
       "        vertical-align: top;\n",
       "    }\n",
       "\n",
       "    .dataframe thead th {\n",
       "        text-align: right;\n",
       "    }\n",
       "</style>\n",
       "<table border=\"1\" class=\"dataframe\">\n",
       "  <thead>\n",
       "    <tr style=\"text-align: right;\">\n",
       "      <th></th>\n",
       "      <th>book_id</th>\n",
       "      <th>title_without_series</th>\n",
       "      <th>book_description</th>\n",
       "      <th>publication_year</th>\n",
       "      <th>publisher</th>\n",
       "      <th>ratings_count</th>\n",
       "      <th>book_average_rating</th>\n",
       "      <th>cover_page</th>\n",
       "      <th>book_url</th>\n",
       "      <th>is_ebook</th>\n",
       "      <th>num_pages</th>\n",
       "      <th>country_code</th>\n",
       "      <th>language_code</th>\n",
       "      <th>user_id</th>\n",
       "      <th>review_text</th>\n",
       "      <th>review_id</th>\n",
       "      <th>n_votes</th>\n",
       "      <th>user_rating</th>\n",
       "      <th>weighted_avg</th>\n",
       "    </tr>\n",
       "  </thead>\n",
       "  <tbody>\n",
       "    <tr>\n",
       "      <th>0</th>\n",
       "      <td>6066814</td>\n",
       "      <td>crowner royal crowner john mystery 13</td>\n",
       "      <td>london 1196 command richard lionheart sir john...</td>\n",
       "      <td>2009.0</td>\n",
       "      <td>Simon &amp; Schuster UK</td>\n",
       "      <td>186</td>\n",
       "      <td>3.93</td>\n",
       "      <td>https://images.gr-assets.com/books/1328724803m...</td>\n",
       "      <td>https://www.goodreads.com/book/show/6066814-cr...</td>\n",
       "      <td>False</td>\n",
       "      <td>400.0</td>\n",
       "      <td>US</td>\n",
       "      <td>en-US</td>\n",
       "      <td>9ab00cb54e02704c5a7bd5ca90564e2e</td>\n",
       "      <td>I enjoyed this book. It kept me guessing until...</td>\n",
       "      <td>8ee2d0644aa02cdf9a40dde4adaade04</td>\n",
       "      <td>0</td>\n",
       "      <td>5</td>\n",
       "      <td>3.929339</td>\n",
       "    </tr>\n",
       "    <tr>\n",
       "      <th>1</th>\n",
       "      <td>29074697</td>\n",
       "      <td>slaughtered virgin zenopolis inspector capstan 1</td>\n",
       "      <td>baths banks roman insurrection detective inspe...</td>\n",
       "      <td>2011.0</td>\n",
       "      <td>Amazon Digital Services</td>\n",
       "      <td>192</td>\n",
       "      <td>3.49</td>\n",
       "      <td>https://s.gr-assets.com/assets/nophoto/book/11...</td>\n",
       "      <td>https://www.goodreads.com/book/show/29074697-t...</td>\n",
       "      <td>True</td>\n",
       "      <td>304.0</td>\n",
       "      <td>US</td>\n",
       "      <td>eng</td>\n",
       "      <td>42dabb3a33d9a437387496a2dd50a247</td>\n",
       "      <td>It seems to take place in a parallel world ful...</td>\n",
       "      <td>c0e3b3879264cb7a888c5da4f5bf25c4</td>\n",
       "      <td>0</td>\n",
       "      <td>2</td>\n",
       "      <td>3.491639</td>\n",
       "    </tr>\n",
       "    <tr>\n",
       "      <th>2</th>\n",
       "      <td>1902202</td>\n",
       "      <td>dead morning patrick grant 1</td>\n",
       "      <td>gerald breezily introduced wife helen mrs mack...</td>\n",
       "      <td>1975.0</td>\n",
       "      <td>Ulverscroft</td>\n",
       "      <td>52</td>\n",
       "      <td>3.30</td>\n",
       "      <td>https://s.gr-assets.com/assets/nophoto/book/11...</td>\n",
       "      <td>https://www.goodreads.com/book/show/1902202.De...</td>\n",
       "      <td>False</td>\n",
       "      <td>304.0</td>\n",
       "      <td>US</td>\n",
       "      <td>en-US</td>\n",
       "      <td>1e7bca7d5f8e3d6460320704c423c12e</td>\n",
       "      <td>Lively</td>\n",
       "      <td>22d5b7a4c8c7a48ec09b8779ecc76221</td>\n",
       "      <td>0</td>\n",
       "      <td>4</td>\n",
       "      <td>3.309555</td>\n",
       "    </tr>\n",
       "    <tr>\n",
       "      <th>3</th>\n",
       "      <td>1902202</td>\n",
       "      <td>dead morning patrick grant 1</td>\n",
       "      <td>gerald breezily introduced wife helen mrs mack...</td>\n",
       "      <td>1975.0</td>\n",
       "      <td>Ulverscroft</td>\n",
       "      <td>52</td>\n",
       "      <td>3.30</td>\n",
       "      <td>https://s.gr-assets.com/assets/nophoto/book/11...</td>\n",
       "      <td>https://www.goodreads.com/book/show/1902202.De...</td>\n",
       "      <td>False</td>\n",
       "      <td>304.0</td>\n",
       "      <td>US</td>\n",
       "      <td>en-US</td>\n",
       "      <td>6a352b99747118883209c79d4d1f587d</td>\n",
       "      <td>I'm always trying to find the perfect mystery ...</td>\n",
       "      <td>0b104fb43b46e65758a1837450fa90d0</td>\n",
       "      <td>0</td>\n",
       "      <td>4</td>\n",
       "      <td>3.309555</td>\n",
       "    </tr>\n",
       "    <tr>\n",
       "      <th>4</th>\n",
       "      <td>2805495</td>\n",
       "      <td>wycliffe cycle death</td>\n",
       "      <td>respectable bookseller found bludgeoned strang...</td>\n",
       "      <td>2001.0</td>\n",
       "      <td>Orion</td>\n",
       "      <td>58</td>\n",
       "      <td>3.61</td>\n",
       "      <td>https://images.gr-assets.com/books/1328819096m...</td>\n",
       "      <td>https://www.goodreads.com/book/show/2805495-wy...</td>\n",
       "      <td>False</td>\n",
       "      <td>320.0</td>\n",
       "      <td>US</td>\n",
       "      <td>en-US</td>\n",
       "      <td>5c4fd56b7e95eb4d92ee8814b883eab8</td>\n",
       "      <td>I enjoy the Wycliffe books,simpley because,the...</td>\n",
       "      <td>cc5598497557cd09bdd6b6246104bf99</td>\n",
       "      <td>0</td>\n",
       "      <td>4</td>\n",
       "      <td>3.613329</td>\n",
       "    </tr>\n",
       "  </tbody>\n",
       "</table>\n",
       "</div>"
      ],
      "text/plain": [
       "    book_id                               title_without_series  \\\n",
       "0   6066814             crowner royal crowner john mystery 13    \n",
       "1  29074697  slaughtered virgin zenopolis inspector capstan 1    \n",
       "2   1902202                      dead morning patrick grant 1    \n",
       "3   1902202                      dead morning patrick grant 1    \n",
       "4   2805495                              wycliffe cycle death    \n",
       "\n",
       "                                    book_description  publication_year  \\\n",
       "0  london 1196 command richard lionheart sir john...            2009.0   \n",
       "1  baths banks roman insurrection detective inspe...            2011.0   \n",
       "2  gerald breezily introduced wife helen mrs mack...            1975.0   \n",
       "3  gerald breezily introduced wife helen mrs mack...            1975.0   \n",
       "4  respectable bookseller found bludgeoned strang...            2001.0   \n",
       "\n",
       "                 publisher  ratings_count  book_average_rating  \\\n",
       "0      Simon & Schuster UK            186                 3.93   \n",
       "1  Amazon Digital Services            192                 3.49   \n",
       "2              Ulverscroft             52                 3.30   \n",
       "3              Ulverscroft             52                 3.30   \n",
       "4                    Orion             58                 3.61   \n",
       "\n",
       "                                          cover_page  \\\n",
       "0  https://images.gr-assets.com/books/1328724803m...   \n",
       "1  https://s.gr-assets.com/assets/nophoto/book/11...   \n",
       "2  https://s.gr-assets.com/assets/nophoto/book/11...   \n",
       "3  https://s.gr-assets.com/assets/nophoto/book/11...   \n",
       "4  https://images.gr-assets.com/books/1328819096m...   \n",
       "\n",
       "                                            book_url  is_ebook  num_pages  \\\n",
       "0  https://www.goodreads.com/book/show/6066814-cr...     False      400.0   \n",
       "1  https://www.goodreads.com/book/show/29074697-t...      True      304.0   \n",
       "2  https://www.goodreads.com/book/show/1902202.De...     False      304.0   \n",
       "3  https://www.goodreads.com/book/show/1902202.De...     False      304.0   \n",
       "4  https://www.goodreads.com/book/show/2805495-wy...     False      320.0   \n",
       "\n",
       "  country_code language_code                           user_id  \\\n",
       "0           US         en-US  9ab00cb54e02704c5a7bd5ca90564e2e   \n",
       "1           US           eng  42dabb3a33d9a437387496a2dd50a247   \n",
       "2           US         en-US  1e7bca7d5f8e3d6460320704c423c12e   \n",
       "3           US         en-US  6a352b99747118883209c79d4d1f587d   \n",
       "4           US         en-US  5c4fd56b7e95eb4d92ee8814b883eab8   \n",
       "\n",
       "                                         review_text  \\\n",
       "0  I enjoyed this book. It kept me guessing until...   \n",
       "1  It seems to take place in a parallel world ful...   \n",
       "2                                             Lively   \n",
       "3  I'm always trying to find the perfect mystery ...   \n",
       "4  I enjoy the Wycliffe books,simpley because,the...   \n",
       "\n",
       "                          review_id  n_votes  user_rating  weighted_avg  \n",
       "0  8ee2d0644aa02cdf9a40dde4adaade04        0            5      3.929339  \n",
       "1  c0e3b3879264cb7a888c5da4f5bf25c4        0            2      3.491639  \n",
       "2  22d5b7a4c8c7a48ec09b8779ecc76221        0            4      3.309555  \n",
       "3  0b104fb43b46e65758a1837450fa90d0        0            4      3.309555  \n",
       "4  cc5598497557cd09bdd6b6246104bf99        0            4      3.613329  "
      ]
     },
     "execution_count": 235,
     "metadata": {},
     "output_type": "execute_result"
    }
   ],
   "source": [
    "rs2_ratings_copy.head()"
   ]
  },
  {
   "cell_type": "code",
   "execution_count": 475,
   "metadata": {},
   "outputs": [],
   "source": [
    "# add a column that will allow us to tokenise the textual data, have already applied the preprocessing techniques above\n",
    "rs2_ratings_copy['combined_text'] = rs2_ratings_copy['title_without_series'] + ' ' + rs2_ratings_copy['book_description']"
   ]
  },
  {
   "cell_type": "code",
   "execution_count": 622,
   "metadata": {},
   "outputs": [],
   "source": [
    "# creates a new column that contains the tokenised text\n",
    "rs2_ratings_copy['tokenised_text'] = rs2_ratings_copy['combined_text'].apply(word_tokenize)"
   ]
  },
  {
   "cell_type": "code",
   "execution_count": 623,
   "metadata": {},
   "outputs": [
    {
     "data": {
      "text/html": [
       "<div>\n",
       "<style scoped>\n",
       "    .dataframe tbody tr th:only-of-type {\n",
       "        vertical-align: middle;\n",
       "    }\n",
       "\n",
       "    .dataframe tbody tr th {\n",
       "        vertical-align: top;\n",
       "    }\n",
       "\n",
       "    .dataframe thead th {\n",
       "        text-align: right;\n",
       "    }\n",
       "</style>\n",
       "<table border=\"1\" class=\"dataframe\">\n",
       "  <thead>\n",
       "    <tr style=\"text-align: right;\">\n",
       "      <th></th>\n",
       "      <th>book_id</th>\n",
       "      <th>title_without_series</th>\n",
       "      <th>book_description</th>\n",
       "      <th>publication_year</th>\n",
       "      <th>publisher</th>\n",
       "      <th>ratings_count</th>\n",
       "      <th>book_average_rating</th>\n",
       "      <th>cover_page</th>\n",
       "      <th>book_url</th>\n",
       "      <th>is_ebook</th>\n",
       "      <th>...</th>\n",
       "      <th>country_code</th>\n",
       "      <th>language_code</th>\n",
       "      <th>user_id</th>\n",
       "      <th>review_text</th>\n",
       "      <th>review_id</th>\n",
       "      <th>n_votes</th>\n",
       "      <th>user_rating</th>\n",
       "      <th>weighted_avg</th>\n",
       "      <th>combined_text</th>\n",
       "      <th>tokenised_text</th>\n",
       "    </tr>\n",
       "  </thead>\n",
       "  <tbody>\n",
       "    <tr>\n",
       "      <th>0</th>\n",
       "      <td>6066814</td>\n",
       "      <td>crowner royal crowner john mystery 13</td>\n",
       "      <td>london 1196 command richard lionheart sir john...</td>\n",
       "      <td>2009.0</td>\n",
       "      <td>Simon &amp; Schuster UK</td>\n",
       "      <td>186</td>\n",
       "      <td>3.93</td>\n",
       "      <td>https://images.gr-assets.com/books/1328724803m...</td>\n",
       "      <td>https://www.goodreads.com/book/show/6066814-cr...</td>\n",
       "      <td>False</td>\n",
       "      <td>...</td>\n",
       "      <td>US</td>\n",
       "      <td>en-US</td>\n",
       "      <td>9ab00cb54e02704c5a7bd5ca90564e2e</td>\n",
       "      <td>I enjoyed this book. It kept me guessing until...</td>\n",
       "      <td>8ee2d0644aa02cdf9a40dde4adaade04</td>\n",
       "      <td>0</td>\n",
       "      <td>5</td>\n",
       "      <td>3.929339</td>\n",
       "      <td>crowner royal crowner john mystery 13  london ...</td>\n",
       "      <td>[crowner, royal, crowner, john, mystery, 13, l...</td>\n",
       "    </tr>\n",
       "    <tr>\n",
       "      <th>1</th>\n",
       "      <td>29074697</td>\n",
       "      <td>slaughtered virgin zenopolis inspector capstan 1</td>\n",
       "      <td>baths banks roman insurrection detective inspe...</td>\n",
       "      <td>2011.0</td>\n",
       "      <td>Amazon Digital Services</td>\n",
       "      <td>192</td>\n",
       "      <td>3.49</td>\n",
       "      <td>https://s.gr-assets.com/assets/nophoto/book/11...</td>\n",
       "      <td>https://www.goodreads.com/book/show/29074697-t...</td>\n",
       "      <td>True</td>\n",
       "      <td>...</td>\n",
       "      <td>US</td>\n",
       "      <td>eng</td>\n",
       "      <td>42dabb3a33d9a437387496a2dd50a247</td>\n",
       "      <td>It seems to take place in a parallel world ful...</td>\n",
       "      <td>c0e3b3879264cb7a888c5da4f5bf25c4</td>\n",
       "      <td>0</td>\n",
       "      <td>2</td>\n",
       "      <td>3.491639</td>\n",
       "      <td>slaughtered virgin zenopolis inspector capstan...</td>\n",
       "      <td>[slaughtered, virgin, zenopolis, inspector, ca...</td>\n",
       "    </tr>\n",
       "    <tr>\n",
       "      <th>2</th>\n",
       "      <td>1902202</td>\n",
       "      <td>dead morning patrick grant 1</td>\n",
       "      <td>gerald breezily introduced wife helen mrs mack...</td>\n",
       "      <td>1975.0</td>\n",
       "      <td>Ulverscroft</td>\n",
       "      <td>52</td>\n",
       "      <td>3.30</td>\n",
       "      <td>https://s.gr-assets.com/assets/nophoto/book/11...</td>\n",
       "      <td>https://www.goodreads.com/book/show/1902202.De...</td>\n",
       "      <td>False</td>\n",
       "      <td>...</td>\n",
       "      <td>US</td>\n",
       "      <td>en-US</td>\n",
       "      <td>1e7bca7d5f8e3d6460320704c423c12e</td>\n",
       "      <td>Lively</td>\n",
       "      <td>22d5b7a4c8c7a48ec09b8779ecc76221</td>\n",
       "      <td>0</td>\n",
       "      <td>4</td>\n",
       "      <td>3.309555</td>\n",
       "      <td>dead morning patrick grant 1  gerald breezily ...</td>\n",
       "      <td>[dead, morning, patrick, grant, 1, gerald, bre...</td>\n",
       "    </tr>\n",
       "    <tr>\n",
       "      <th>3</th>\n",
       "      <td>1902202</td>\n",
       "      <td>dead morning patrick grant 1</td>\n",
       "      <td>gerald breezily introduced wife helen mrs mack...</td>\n",
       "      <td>1975.0</td>\n",
       "      <td>Ulverscroft</td>\n",
       "      <td>52</td>\n",
       "      <td>3.30</td>\n",
       "      <td>https://s.gr-assets.com/assets/nophoto/book/11...</td>\n",
       "      <td>https://www.goodreads.com/book/show/1902202.De...</td>\n",
       "      <td>False</td>\n",
       "      <td>...</td>\n",
       "      <td>US</td>\n",
       "      <td>en-US</td>\n",
       "      <td>6a352b99747118883209c79d4d1f587d</td>\n",
       "      <td>I'm always trying to find the perfect mystery ...</td>\n",
       "      <td>0b104fb43b46e65758a1837450fa90d0</td>\n",
       "      <td>0</td>\n",
       "      <td>4</td>\n",
       "      <td>3.309555</td>\n",
       "      <td>dead morning patrick grant 1  gerald breezily ...</td>\n",
       "      <td>[dead, morning, patrick, grant, 1, gerald, bre...</td>\n",
       "    </tr>\n",
       "    <tr>\n",
       "      <th>4</th>\n",
       "      <td>2805495</td>\n",
       "      <td>wycliffe cycle death</td>\n",
       "      <td>respectable bookseller found bludgeoned strang...</td>\n",
       "      <td>2001.0</td>\n",
       "      <td>Orion</td>\n",
       "      <td>58</td>\n",
       "      <td>3.61</td>\n",
       "      <td>https://images.gr-assets.com/books/1328819096m...</td>\n",
       "      <td>https://www.goodreads.com/book/show/2805495-wy...</td>\n",
       "      <td>False</td>\n",
       "      <td>...</td>\n",
       "      <td>US</td>\n",
       "      <td>en-US</td>\n",
       "      <td>5c4fd56b7e95eb4d92ee8814b883eab8</td>\n",
       "      <td>I enjoy the Wycliffe books,simpley because,the...</td>\n",
       "      <td>cc5598497557cd09bdd6b6246104bf99</td>\n",
       "      <td>0</td>\n",
       "      <td>4</td>\n",
       "      <td>3.613329</td>\n",
       "      <td>wycliffe cycle death  respectable bookseller f...</td>\n",
       "      <td>[wycliffe, cycle, death, respectable, booksell...</td>\n",
       "    </tr>\n",
       "  </tbody>\n",
       "</table>\n",
       "<p>5 rows × 21 columns</p>\n",
       "</div>"
      ],
      "text/plain": [
       "    book_id                               title_without_series  \\\n",
       "0   6066814             crowner royal crowner john mystery 13    \n",
       "1  29074697  slaughtered virgin zenopolis inspector capstan 1    \n",
       "2   1902202                      dead morning patrick grant 1    \n",
       "3   1902202                      dead morning patrick grant 1    \n",
       "4   2805495                              wycliffe cycle death    \n",
       "\n",
       "                                    book_description  publication_year  \\\n",
       "0  london 1196 command richard lionheart sir john...            2009.0   \n",
       "1  baths banks roman insurrection detective inspe...            2011.0   \n",
       "2  gerald breezily introduced wife helen mrs mack...            1975.0   \n",
       "3  gerald breezily introduced wife helen mrs mack...            1975.0   \n",
       "4  respectable bookseller found bludgeoned strang...            2001.0   \n",
       "\n",
       "                 publisher  ratings_count  book_average_rating  \\\n",
       "0      Simon & Schuster UK            186                 3.93   \n",
       "1  Amazon Digital Services            192                 3.49   \n",
       "2              Ulverscroft             52                 3.30   \n",
       "3              Ulverscroft             52                 3.30   \n",
       "4                    Orion             58                 3.61   \n",
       "\n",
       "                                          cover_page  \\\n",
       "0  https://images.gr-assets.com/books/1328724803m...   \n",
       "1  https://s.gr-assets.com/assets/nophoto/book/11...   \n",
       "2  https://s.gr-assets.com/assets/nophoto/book/11...   \n",
       "3  https://s.gr-assets.com/assets/nophoto/book/11...   \n",
       "4  https://images.gr-assets.com/books/1328819096m...   \n",
       "\n",
       "                                            book_url  is_ebook  ...  \\\n",
       "0  https://www.goodreads.com/book/show/6066814-cr...     False  ...   \n",
       "1  https://www.goodreads.com/book/show/29074697-t...      True  ...   \n",
       "2  https://www.goodreads.com/book/show/1902202.De...     False  ...   \n",
       "3  https://www.goodreads.com/book/show/1902202.De...     False  ...   \n",
       "4  https://www.goodreads.com/book/show/2805495-wy...     False  ...   \n",
       "\n",
       "   country_code language_code                           user_id  \\\n",
       "0            US         en-US  9ab00cb54e02704c5a7bd5ca90564e2e   \n",
       "1            US           eng  42dabb3a33d9a437387496a2dd50a247   \n",
       "2            US         en-US  1e7bca7d5f8e3d6460320704c423c12e   \n",
       "3            US         en-US  6a352b99747118883209c79d4d1f587d   \n",
       "4            US         en-US  5c4fd56b7e95eb4d92ee8814b883eab8   \n",
       "\n",
       "                                         review_text  \\\n",
       "0  I enjoyed this book. It kept me guessing until...   \n",
       "1  It seems to take place in a parallel world ful...   \n",
       "2                                             Lively   \n",
       "3  I'm always trying to find the perfect mystery ...   \n",
       "4  I enjoy the Wycliffe books,simpley because,the...   \n",
       "\n",
       "                          review_id n_votes  user_rating  weighted_avg  \\\n",
       "0  8ee2d0644aa02cdf9a40dde4adaade04       0            5      3.929339   \n",
       "1  c0e3b3879264cb7a888c5da4f5bf25c4       0            2      3.491639   \n",
       "2  22d5b7a4c8c7a48ec09b8779ecc76221       0            4      3.309555   \n",
       "3  0b104fb43b46e65758a1837450fa90d0       0            4      3.309555   \n",
       "4  cc5598497557cd09bdd6b6246104bf99       0            4      3.613329   \n",
       "\n",
       "                                       combined_text  \\\n",
       "0  crowner royal crowner john mystery 13  london ...   \n",
       "1  slaughtered virgin zenopolis inspector capstan...   \n",
       "2  dead morning patrick grant 1  gerald breezily ...   \n",
       "3  dead morning patrick grant 1  gerald breezily ...   \n",
       "4  wycliffe cycle death  respectable bookseller f...   \n",
       "\n",
       "                                      tokenised_text  \n",
       "0  [crowner, royal, crowner, john, mystery, 13, l...  \n",
       "1  [slaughtered, virgin, zenopolis, inspector, ca...  \n",
       "2  [dead, morning, patrick, grant, 1, gerald, bre...  \n",
       "3  [dead, morning, patrick, grant, 1, gerald, bre...  \n",
       "4  [wycliffe, cycle, death, respectable, booksell...  \n",
       "\n",
       "[5 rows x 21 columns]"
      ]
     },
     "execution_count": 623,
     "metadata": {},
     "output_type": "execute_result"
    }
   ],
   "source": [
    "rs2_ratings_copy.head()"
   ]
  },
  {
   "cell_type": "code",
   "execution_count": 97,
   "metadata": {},
   "outputs": [],
   "source": [
    "# turns the ratings into a .csv file to allow for the use in the command line interface\n",
    "rs2_ratings_copy.to_csv('rs2_clean_ratings.csv')"
   ]
  },
  {
   "cell_type": "code",
   "execution_count": 485,
   "metadata": {},
   "outputs": [],
   "source": [
    "# split this dataset 80/20 to allow for train/testing\n",
    "\n",
    "# gets 80% of books\n",
    "rs2_train = [books[i] for i in range(round(0.8*len(books)))]\n",
    "\n",
    "train_df = rs2_ratings_copy[rs2_ratings_copy['book_id'].isin(rs2_train)]\n",
    "# all values not in training set, 20% for testing set\n",
    "test_df = rs2_ratings_copy[~rs2_ratings_copy['book_id'].isin(rs2_train)]"
   ]
  },
  {
   "cell_type": "code",
   "execution_count": 254,
   "metadata": {},
   "outputs": [
    {
     "name": "stdout",
     "output_type": "stream",
     "text": [
      "Collecting gensim\n",
      "  Downloading gensim-4.3.2-cp38-cp38-macosx_10_9_x86_64.whl (24.1 MB)\n",
      "\u001b[2K     \u001b[90m━━━━━━━━━━━━━━━━━━━━━━━━━━━━━━━━━━━━━━━━\u001b[0m \u001b[32m24.1/24.1 MB\u001b[0m \u001b[31m6.7 MB/s\u001b[0m eta \u001b[36m0:00:00\u001b[0m00:01\u001b[0m00:01\u001b[0m\n",
      "\u001b[?25hRequirement already satisfied: numpy>=1.18.5 in /Users/jacobdear/opt/anaconda3/lib/python3.8/site-packages (from gensim) (1.20.1)\n",
      "Collecting scipy>=1.7.0 (from gensim)\n",
      "  Downloading scipy-1.10.1-cp38-cp38-macosx_10_9_x86_64.whl (35.0 MB)\n",
      "\u001b[2K     \u001b[90m━━━━━━━━━━━━━━━━━━━━━━━━━━━━━━━━━━━━━━━━\u001b[0m \u001b[32m35.0/35.0 MB\u001b[0m \u001b[31m6.4 MB/s\u001b[0m eta \u001b[36m0:00:00\u001b[0m00:01\u001b[0m00:01\u001b[0m\n",
      "\u001b[?25hCollecting smart-open>=1.8.1 (from gensim)\n",
      "  Downloading smart_open-6.4.0-py3-none-any.whl (57 kB)\n",
      "\u001b[2K     \u001b[90m━━━━━━━━━━━━━━━━━━━━━━━━━━━━━━━━━━━━━━━━\u001b[0m \u001b[32m57.0/57.0 kB\u001b[0m \u001b[31m4.4 MB/s\u001b[0m eta \u001b[36m0:00:00\u001b[0m\n",
      "\u001b[?25hInstalling collected packages: smart-open, scipy, gensim\n",
      "  Attempting uninstall: scipy\n",
      "    Found existing installation: scipy 1.6.2\n",
      "    Uninstalling scipy-1.6.2:\n",
      "      Successfully uninstalled scipy-1.6.2\n",
      "Successfully installed gensim-4.3.2 scipy-1.10.1 smart-open-6.4.0\n",
      "\n",
      "\u001b[1m[\u001b[0m\u001b[34;49mnotice\u001b[0m\u001b[1;39;49m]\u001b[0m\u001b[39;49m A new release of pip is available: \u001b[0m\u001b[31;49m23.1.2\u001b[0m\u001b[39;49m -> \u001b[0m\u001b[32;49m23.3.2\u001b[0m\n",
      "\u001b[1m[\u001b[0m\u001b[34;49mnotice\u001b[0m\u001b[1;39;49m]\u001b[0m\u001b[39;49m To update, run: \u001b[0m\u001b[32;49mpip install --upgrade pip\u001b[0m\n",
      "Note: you may need to restart the kernel to use updated packages.\n"
     ]
    }
   ],
   "source": [
    "# install this which has the built-in code for the word2vec model\n",
    "pip install gensim "
   ]
  },
  {
   "cell_type": "code",
   "execution_count": 104,
   "metadata": {},
   "outputs": [],
   "source": [
    "# use this to implement Word2Vec \n",
    "\n",
    "# paper # use the NLP approach, with word2vec model / CBOW model from https://arxiv.org/pdf/1301.3781.pdf  \n",
    "from gensim.models import Word2Vec\n"
   ]
  },
  {
   "cell_type": "markdown",
   "metadata": {},
   "source": [
    "https://www.analyticsvidhya.com/blog/2019/07/how-to-build-recommendation-system-word2vec-python/"
   ]
  },
  {
   "cell_type": "code",
   "execution_count": 302,
   "metadata": {},
   "outputs": [
    {
     "name": "stderr",
     "output_type": "stream",
     "text": [
      "100%|██████████| 80011/80011 [13:10<00:00, 101.26it/s] \n"
     ]
    }
   ],
   "source": [
    "from tqdm import tqdm\n",
    "# list to capture books read by the customers\n",
    "books_read = []\n",
    "\n",
    "# populate the list with the book codes\n",
    "for index, row in tqdm(train_df.iterrows(), total=len(train_df)):\n",
    "    temp = train_df[train_df[\"user_id\"] == row['user_id']]['book_id'].tolist()\n",
    "    books_read.append(temp)"
   ]
  },
  {
   "cell_type": "code",
   "execution_count": 295,
   "metadata": {},
   "outputs": [
    {
     "name": "stderr",
     "output_type": "stream",
     "text": [
      "100%|██████████| 19989/19989 [00:53<00:00, 376.73it/s]\n"
     ]
    }
   ],
   "source": [
    "# list to capture books read by the customers\n",
    "books_read_test = []\n",
    "\n",
    "# populate the list with the book codes\n",
    "for index, row in tqdm(test_df.iterrows(), total=len(test_df)):\n",
    "    temp = test_df[test_df[\"user_id\"] == row['user_id']]['book_id'].tolist()\n",
    "    books_read_test.append(temp)"
   ]
  },
  {
   "cell_type": "code",
   "execution_count": 500,
   "metadata": {},
   "outputs": [],
   "source": [
    "# train word2vec model\n",
    "w2_model = Word2Vec(window = 10, sg = 1, hs = 0,\n",
    "                 negative = 10, # for negative sampling\n",
    "                 alpha=0.03, min_alpha=0.0007,\n",
    "                 seed = 14)\n",
    "# buils the vocabulary, using the book_ids and the tokenised text, so takes into account the book description and titles as well\n",
    "w2_model.build_vocab(books_read + train_df['tokenised_text'].tolist())"
   ]
  },
  {
   "cell_type": "code",
   "execution_count": 505,
   "metadata": {},
   "outputs": [],
   "source": [
    "from gensim.models.callbacks import CallbackAny2Vec\n",
    "# allows us to print each epoch and the corresponding loss value\n",
    "class EpochLogger(CallbackAny2Vec):\n",
    "    def __init__(self):\n",
    "        self.epoch = 0\n",
    "\n",
    "    # when the epoch ends we print this out to see progress\n",
    "    def on_epoch_end(self, model):\n",
    "        print(f\"Epoch {self.epoch}, Loss: {model.get_latest_training_loss()}\")\n",
    "        self.epoch += 1\n"
   ]
  },
  {
   "cell_type": "code",
   "execution_count": 506,
   "metadata": {},
   "outputs": [
    {
     "name": "stdout",
     "output_type": "stream",
     "text": [
      "Epoch 0, Loss: 27273928.0\n",
      "Epoch 1, Loss: 45090316.0\n",
      "Epoch 2, Loss: 61044704.0\n",
      "Epoch 3, Loss: 72315368.0\n",
      "Epoch 4, Loss: 80555336.0\n",
      "Epoch 5, Loss: 88334792.0\n",
      "Epoch 6, Loss: 95885552.0\n",
      "Epoch 7, Loss: 103129128.0\n",
      "Epoch 8, Loss: 109449064.0\n",
      "Epoch 9, Loss: 114134048.0\n"
     ]
    },
    {
     "data": {
      "text/plain": [
       "(82359891, 83396620)"
      ]
     },
     "execution_count": 506,
     "metadata": {},
     "output_type": "execute_result"
    }
   ],
   "source": [
    "# calls the class to log epochs\n",
    "epoch = EpochLogger()\n",
    "# trains on a combination of book_ids and tokenised text, for all the value in the corpus, which is the set of \n",
    "# vectors in the vocab, trains for 10 epochs\n",
    "# compute_loss=True, so we can see the progress and then allows for the printing of epochs via callbacks\n",
    "w2_model.train(books_read + train_df['tokenised_text'].tolist(),\n",
    "               total_examples=w2_model.corpus_count,\n",
    "               epochs=10,\n",
    "               compute_loss=True,\n",
    "               callbacks=[epoch]\n",
    "              )"
   ]
  },
  {
   "cell_type": "code",
   "execution_count": 558,
   "metadata": {},
   "outputs": [],
   "source": [
    "# saves the model, allowing for the use in the cli \n",
    "w2_model.save(\"w2_model.model\")"
   ]
  },
  {
   "cell_type": "code",
   "execution_count": 508,
   "metadata": {},
   "outputs": [
    {
     "name": "stdout",
     "output_type": "stream",
     "text": [
      "Word2Vec<vocab=60762, vector_size=100, alpha=0.03>\n"
     ]
    }
   ],
   "source": [
    "print(w2_model)"
   ]
  },
  {
   "cell_type": "code",
   "execution_count": 624,
   "metadata": {},
   "outputs": [
    {
     "name": "stderr",
     "output_type": "stream",
     "text": [
      "<ipython-input-624-6542001c26ec>:5: SettingWithCopyWarning: \n",
      "A value is trying to be set on a copy of a slice from a DataFrame\n",
      "\n",
      "See the caveats in the documentation: https://pandas.pydata.org/pandas-docs/stable/user_guide/indexing.html#returning-a-view-versus-a-copy\n",
      "  trained_books = trained_books.drop_duplicates(inplace=True, subset='book_id', keep=\"last\")\n"
     ]
    }
   ],
   "source": [
    "# create a book id and description to easy map the description to id and vice versa\n",
    "trained_books = train_df[[\"book_id\", \"title_without_series\"]]\n",
    "\n",
    "# remove duplicates\n",
    "trained_books = trained_books.drop_duplicates(inplace=True, subset='book_id', keep=\"last\")"
   ]
  },
  {
   "cell_type": "code",
   "execution_count": 581,
   "metadata": {},
   "outputs": [],
   "source": [
    "# takes the average all previously rated items and produces a resultant vector\n",
    "def aggregate_vectors(books):\n",
    "    book_vec = []\n",
    "    for i in books:\n",
    "        try:\n",
    "            book_vec.append(w2_model.wv[i])\n",
    "        except KeyError:\n",
    "            continue\n",
    "        \n",
    "    return np.mean(book_vec, axis=0)"
   ]
  },
  {
   "cell_type": "code",
   "execution_count": 627,
   "metadata": {},
   "outputs": [],
   "source": [
    "def content_rs2(user_id, data, n):\n",
    "    \n",
    "    # extract liked books by user\n",
    "    user_books = data[data['user_id'] == user_id]['book_id'].tolist()\n",
    "    # calculate the resultant vector\n",
    "    user_vector = aggregate_vectors(user_books)\n",
    "\n",
    "    # extract most similar words/books for the input vector\n",
    "    ms = w2_model.wv.most_similar(user_vector, topn= n+1)[1:]\n",
    "    # extracts the top n most similar books, excluding itself\n",
    "    book_ids = [int(j[0]) for j in ms]\n",
    "    # creates a df of the most similar book_ids\n",
    "    book_ids_df = pd.DataFrame({'book_id': book_ids})\n",
    "\n",
    "    # merges the dataset with the original dataset to allow for the titles to be in proper formats\n",
    "    # not lower and with all stopwords and punctutation removed like train_df\n",
    "    new_ms = pd.merge(book_ids_df, rs2_ratings, how='left', on='book_id')\n",
    "    # gets rid of the duplicated values when merging, can run into problems due to having mutliple instances \n",
    "    # of same book_id\n",
    "    new_ms.drop_duplicates(inplace=True, subset='book_id', keep=\"last\")\n",
    "    \n",
    "    # returns the dataframe but only the book_id and title column\n",
    "    return new_ms[['book_id', 'title_without_series']]\n"
   ]
  },
  {
   "cell_type": "code",
   "execution_count": 579,
   "metadata": {},
   "outputs": [
    {
     "data": {
      "text/plain": [
       "80936    af129a3a15e5e989c4b753eca37d0bee\n",
       "80937    b77fdab04b65257d9dcb89e47be44cda\n",
       "80938    30c9e6cbe1794a885dee0ff3d8b58e19\n",
       "80939    9aa1f348011c0f862b88bd6bba03d138\n",
       "80940    f5343cf39c3f9eb8eeb281a7450f6f87\n",
       "Name: user_id, dtype: object"
      ]
     },
     "execution_count": 579,
     "metadata": {},
     "output_type": "execute_result"
    }
   ],
   "source": [
    "test_df['user_id'].head()"
   ]
  },
  {
   "cell_type": "code",
   "execution_count": 628,
   "metadata": {},
   "outputs": [
    {
     "data": {
      "text/html": [
       "<div>\n",
       "<style scoped>\n",
       "    .dataframe tbody tr th:only-of-type {\n",
       "        vertical-align: middle;\n",
       "    }\n",
       "\n",
       "    .dataframe tbody tr th {\n",
       "        vertical-align: top;\n",
       "    }\n",
       "\n",
       "    .dataframe thead th {\n",
       "        text-align: right;\n",
       "    }\n",
       "</style>\n",
       "<table border=\"1\" class=\"dataframe\">\n",
       "  <thead>\n",
       "    <tr style=\"text-align: right;\">\n",
       "      <th></th>\n",
       "      <th>book_id</th>\n",
       "      <th>title_without_series</th>\n",
       "    </tr>\n",
       "  </thead>\n",
       "  <tbody>\n",
       "    <tr>\n",
       "      <th>0</th>\n",
       "      <td>15797755</td>\n",
       "      <td>The Quick Red Fox: A Travis McGee Novel</td>\n",
       "    </tr>\n",
       "    <tr>\n",
       "      <th>1</th>\n",
       "      <td>1024338</td>\n",
       "      <td>The Nemesis Mission (Aerospace Systems, #2)</td>\n",
       "    </tr>\n",
       "    <tr>\n",
       "      <th>5</th>\n",
       "      <td>968971</td>\n",
       "      <td>Mr. Capone</td>\n",
       "    </tr>\n",
       "    <tr>\n",
       "      <th>7</th>\n",
       "      <td>8130469</td>\n",
       "      <td>House of Reckoning</td>\n",
       "    </tr>\n",
       "    <tr>\n",
       "      <th>11</th>\n",
       "      <td>3045999</td>\n",
       "      <td>Bloodline (Repairman Jack, #11)</td>\n",
       "    </tr>\n",
       "    <tr>\n",
       "      <th>13</th>\n",
       "      <td>7025145</td>\n",
       "      <td>The Adventure Of The Blue Carbuncle (The Adven...</td>\n",
       "    </tr>\n",
       "    <tr>\n",
       "      <th>14</th>\n",
       "      <td>15797756</td>\n",
       "      <td>A Deadly Shade of Gold: A Travis McGee Novel</td>\n",
       "    </tr>\n",
       "    <tr>\n",
       "      <th>17</th>\n",
       "      <td>5278136</td>\n",
       "      <td>The Crosskiller</td>\n",
       "    </tr>\n",
       "    <tr>\n",
       "      <th>19</th>\n",
       "      <td>2020191</td>\n",
       "      <td>A Very Private Gentleman</td>\n",
       "    </tr>\n",
       "    <tr>\n",
       "      <th>27</th>\n",
       "      <td>13642995</td>\n",
       "      <td>The Deep Blue Good-by (Travis McGee, #1)</td>\n",
       "    </tr>\n",
       "  </tbody>\n",
       "</table>\n",
       "</div>"
      ],
      "text/plain": [
       "     book_id                               title_without_series\n",
       "0   15797755            The Quick Red Fox: A Travis McGee Novel\n",
       "1    1024338        The Nemesis Mission (Aerospace Systems, #2)\n",
       "5     968971                                         Mr. Capone\n",
       "7    8130469                                 House of Reckoning\n",
       "11   3045999                    Bloodline (Repairman Jack, #11)\n",
       "13   7025145  The Adventure Of The Blue Carbuncle (The Adven...\n",
       "14  15797756       A Deadly Shade of Gold: A Travis McGee Novel\n",
       "17   5278136                                    The Crosskiller\n",
       "19   2020191                           A Very Private Gentleman\n",
       "27  13642995           The Deep Blue Good-by (Travis McGee, #1)"
      ]
     },
     "execution_count": 628,
     "metadata": {},
     "output_type": "execute_result"
    }
   ],
   "source": [
    "content_rs2('9aa1f348011c0f862b88bd6bba03d138', train_df, 10)"
   ]
  },
  {
   "cell_type": "code",
   "execution_count": 584,
   "metadata": {},
   "outputs": [
    {
     "data": {
      "text/html": [
       "<div>\n",
       "<style scoped>\n",
       "    .dataframe tbody tr th:only-of-type {\n",
       "        vertical-align: middle;\n",
       "    }\n",
       "\n",
       "    .dataframe tbody tr th {\n",
       "        vertical-align: top;\n",
       "    }\n",
       "\n",
       "    .dataframe thead th {\n",
       "        text-align: right;\n",
       "    }\n",
       "</style>\n",
       "<table border=\"1\" class=\"dataframe\">\n",
       "  <thead>\n",
       "    <tr style=\"text-align: right;\">\n",
       "      <th></th>\n",
       "      <th>book_id</th>\n",
       "      <th>title_without_series</th>\n",
       "    </tr>\n",
       "  </thead>\n",
       "  <tbody>\n",
       "    <tr>\n",
       "      <th>14</th>\n",
       "      <td>25817610</td>\n",
       "      <td>London Rain (Josephine Tey #6)</td>\n",
       "    </tr>\n",
       "    <tr>\n",
       "      <th>15</th>\n",
       "      <td>11100733</td>\n",
       "      <td>Rose Cottage</td>\n",
       "    </tr>\n",
       "    <tr>\n",
       "      <th>16</th>\n",
       "      <td>72772</td>\n",
       "      <td>Much Ado About Murder</td>\n",
       "    </tr>\n",
       "    <tr>\n",
       "      <th>18</th>\n",
       "      <td>31077045</td>\n",
       "      <td>212 (Ellie Hatcher #3)</td>\n",
       "    </tr>\n",
       "    <tr>\n",
       "      <th>20</th>\n",
       "      <td>1523559</td>\n",
       "      <td>Nine Coaches Waiting</td>\n",
       "    </tr>\n",
       "    <tr>\n",
       "      <th>27</th>\n",
       "      <td>13019553</td>\n",
       "      <td>Death Comes to Pemberley</td>\n",
       "    </tr>\n",
       "    <tr>\n",
       "      <th>28</th>\n",
       "      <td>6442485</td>\n",
       "      <td>A Murder on London Bridge (Thomas Chaloner, #5)</td>\n",
       "    </tr>\n",
       "    <tr>\n",
       "      <th>31</th>\n",
       "      <td>13644633</td>\n",
       "      <td>Death of an Old Git (The Falconer Files - File 1)</td>\n",
       "    </tr>\n",
       "    <tr>\n",
       "      <th>34</th>\n",
       "      <td>916671</td>\n",
       "      <td>Rosaura A las Diez</td>\n",
       "    </tr>\n",
       "    <tr>\n",
       "      <th>38</th>\n",
       "      <td>636680</td>\n",
       "      <td>Jane and the Unpleasantness at Scargrave Manor...</td>\n",
       "    </tr>\n",
       "  </tbody>\n",
       "</table>\n",
       "</div>"
      ],
      "text/plain": [
       "     book_id                               title_without_series\n",
       "14  25817610                     London Rain (Josephine Tey #6)\n",
       "15  11100733                                       Rose Cottage\n",
       "16     72772                              Much Ado About Murder\n",
       "18  31077045                             212 (Ellie Hatcher #3)\n",
       "20   1523559                               Nine Coaches Waiting\n",
       "27  13019553                           Death Comes to Pemberley\n",
       "28   6442485    A Murder on London Bridge (Thomas Chaloner, #5)\n",
       "31  13644633  Death of an Old Git (The Falconer Files - File 1)\n",
       "34    916671                                 Rosaura A las Diez\n",
       "38    636680  Jane and the Unpleasantness at Scargrave Manor..."
      ]
     },
     "execution_count": 584,
     "metadata": {},
     "output_type": "execute_result"
    }
   ],
   "source": [
    "content_rs2('a04990a9062191f84d05d44581872e86', train_df, 10)"
   ]
  },
  {
   "cell_type": "code",
   "execution_count": 585,
   "metadata": {},
   "outputs": [
    {
     "data": {
      "text/html": [
       "<div>\n",
       "<style scoped>\n",
       "    .dataframe tbody tr th:only-of-type {\n",
       "        vertical-align: middle;\n",
       "    }\n",
       "\n",
       "    .dataframe tbody tr th {\n",
       "        vertical-align: top;\n",
       "    }\n",
       "\n",
       "    .dataframe thead th {\n",
       "        text-align: right;\n",
       "    }\n",
       "</style>\n",
       "<table border=\"1\" class=\"dataframe\">\n",
       "  <thead>\n",
       "    <tr style=\"text-align: right;\">\n",
       "      <th></th>\n",
       "      <th>book_id</th>\n",
       "      <th>title_without_series</th>\n",
       "    </tr>\n",
       "  </thead>\n",
       "  <tbody>\n",
       "    <tr>\n",
       "      <th>3</th>\n",
       "      <td>34311689</td>\n",
       "      <td>White Bodies</td>\n",
       "    </tr>\n",
       "    <tr>\n",
       "      <th>8</th>\n",
       "      <td>28500919</td>\n",
       "      <td>Betrayal</td>\n",
       "    </tr>\n",
       "    <tr>\n",
       "      <th>10</th>\n",
       "      <td>33156619</td>\n",
       "      <td>The Bay of Shadows</td>\n",
       "    </tr>\n",
       "    <tr>\n",
       "      <th>11</th>\n",
       "      <td>34743122</td>\n",
       "      <td>Blood Money</td>\n",
       "    </tr>\n",
       "    <tr>\n",
       "      <th>14</th>\n",
       "      <td>35178144</td>\n",
       "      <td>Grievance</td>\n",
       "    </tr>\n",
       "    <tr>\n",
       "      <th>19</th>\n",
       "      <td>28351603</td>\n",
       "      <td>Twisted Justice</td>\n",
       "    </tr>\n",
       "    <tr>\n",
       "      <th>22</th>\n",
       "      <td>17881160</td>\n",
       "      <td>A Long Walk Home: One Woman's Story of Kidnap,...</td>\n",
       "    </tr>\n",
       "    <tr>\n",
       "      <th>23</th>\n",
       "      <td>29199942</td>\n",
       "      <td>What She Never Told Me</td>\n",
       "    </tr>\n",
       "    <tr>\n",
       "      <th>35</th>\n",
       "      <td>23664378</td>\n",
       "      <td>Guilt</td>\n",
       "    </tr>\n",
       "    <tr>\n",
       "      <th>36</th>\n",
       "      <td>20591541</td>\n",
       "      <td>The Eternal Chain</td>\n",
       "    </tr>\n",
       "  </tbody>\n",
       "</table>\n",
       "</div>"
      ],
      "text/plain": [
       "     book_id                               title_without_series\n",
       "3   34311689                                       White Bodies\n",
       "8   28500919                                           Betrayal\n",
       "10  33156619                                 The Bay of Shadows\n",
       "11  34743122                                        Blood Money\n",
       "14  35178144                                          Grievance\n",
       "19  28351603                                    Twisted Justice\n",
       "22  17881160  A Long Walk Home: One Woman's Story of Kidnap,...\n",
       "23  29199942                             What She Never Told Me\n",
       "35  23664378                                              Guilt\n",
       "36  20591541                                  The Eternal Chain"
      ]
     },
     "execution_count": 585,
     "metadata": {},
     "output_type": "execute_result"
    }
   ],
   "source": [
    "content_rs2('9b808f1cf7160f03647fb8b8aefd4ffb', train_df,10)"
   ]
  },
  {
   "cell_type": "code",
   "execution_count": 587,
   "metadata": {},
   "outputs": [
    {
     "data": {
      "text/html": [
       "<div>\n",
       "<style scoped>\n",
       "    .dataframe tbody tr th:only-of-type {\n",
       "        vertical-align: middle;\n",
       "    }\n",
       "\n",
       "    .dataframe tbody tr th {\n",
       "        vertical-align: top;\n",
       "    }\n",
       "\n",
       "    .dataframe thead th {\n",
       "        text-align: right;\n",
       "    }\n",
       "</style>\n",
       "<table border=\"1\" class=\"dataframe\">\n",
       "  <thead>\n",
       "    <tr style=\"text-align: right;\">\n",
       "      <th></th>\n",
       "      <th>book_id</th>\n",
       "      <th>title_without_series</th>\n",
       "    </tr>\n",
       "  </thead>\n",
       "  <tbody>\n",
       "    <tr>\n",
       "      <th>1</th>\n",
       "      <td>2805495</td>\n",
       "      <td>Wycliffe and the Cycle of Death</td>\n",
       "    </tr>\n",
       "    <tr>\n",
       "      <th>7</th>\n",
       "      <td>907601</td>\n",
       "      <td>Helter Skelter: The True Story of the Manson M...</td>\n",
       "    </tr>\n",
       "    <tr>\n",
       "      <th>16</th>\n",
       "      <td>31143799</td>\n",
       "      <td>Reservoir 13</td>\n",
       "    </tr>\n",
       "    <tr>\n",
       "      <th>19</th>\n",
       "      <td>1502479</td>\n",
       "      <td>A.N.T.I.D.O.T.E.</td>\n",
       "    </tr>\n",
       "    <tr>\n",
       "      <th>24</th>\n",
       "      <td>28500919</td>\n",
       "      <td>Betrayal</td>\n",
       "    </tr>\n",
       "    <tr>\n",
       "      <th>27</th>\n",
       "      <td>6950999</td>\n",
       "      <td>The Scarpetta Factor (Kay Scarpetta #17)</td>\n",
       "    </tr>\n",
       "    <tr>\n",
       "      <th>37</th>\n",
       "      <td>23860310</td>\n",
       "      <td>The Last Confession of Thomas Hawkins (Tom Haw...</td>\n",
       "    </tr>\n",
       "    <tr>\n",
       "      <th>41</th>\n",
       "      <td>34311689</td>\n",
       "      <td>White Bodies</td>\n",
       "    </tr>\n",
       "    <tr>\n",
       "      <th>46</th>\n",
       "      <td>35271392</td>\n",
       "      <td>Force of Nature (Aaron Falk, #2)</td>\n",
       "    </tr>\n",
       "    <tr>\n",
       "      <th>49</th>\n",
       "      <td>11907159</td>\n",
       "      <td>V Is for Vengeance</td>\n",
       "    </tr>\n",
       "  </tbody>\n",
       "</table>\n",
       "</div>"
      ],
      "text/plain": [
       "     book_id                               title_without_series\n",
       "1    2805495                    Wycliffe and the Cycle of Death\n",
       "7     907601  Helter Skelter: The True Story of the Manson M...\n",
       "16  31143799                                       Reservoir 13\n",
       "19   1502479                                   A.N.T.I.D.O.T.E.\n",
       "24  28500919                                           Betrayal\n",
       "27   6950999           The Scarpetta Factor (Kay Scarpetta #17)\n",
       "37  23860310  The Last Confession of Thomas Hawkins (Tom Haw...\n",
       "41  34311689                                       White Bodies\n",
       "46  35271392                   Force of Nature (Aaron Falk, #2)\n",
       "49  11907159                                 V Is for Vengeance"
      ]
     },
     "execution_count": 587,
     "metadata": {},
     "output_type": "execute_result"
    }
   ],
   "source": [
    "content_rs2('5c4fd56b7e95eb4d92ee8814b883eab8',train_df,10)"
   ]
  },
  {
   "cell_type": "code",
   "execution_count": 588,
   "metadata": {},
   "outputs": [
    {
     "data": {
      "text/html": [
       "<div>\n",
       "<style scoped>\n",
       "    .dataframe tbody tr th:only-of-type {\n",
       "        vertical-align: middle;\n",
       "    }\n",
       "\n",
       "    .dataframe tbody tr th {\n",
       "        vertical-align: top;\n",
       "    }\n",
       "\n",
       "    .dataframe thead th {\n",
       "        text-align: right;\n",
       "    }\n",
       "</style>\n",
       "<table border=\"1\" class=\"dataframe\">\n",
       "  <thead>\n",
       "    <tr style=\"text-align: right;\">\n",
       "      <th></th>\n",
       "      <th>book_id</th>\n",
       "      <th>title_without_series</th>\n",
       "    </tr>\n",
       "  </thead>\n",
       "  <tbody>\n",
       "    <tr>\n",
       "      <th>10</th>\n",
       "      <td>30981004</td>\n",
       "      <td>Crazy For Alice</td>\n",
       "    </tr>\n",
       "    <tr>\n",
       "      <th>14</th>\n",
       "      <td>29976075</td>\n",
       "      <td>Serial Killers: The Colombian Monsters (Serial...</td>\n",
       "    </tr>\n",
       "    <tr>\n",
       "      <th>15</th>\n",
       "      <td>25840536</td>\n",
       "      <td>Women in Red</td>\n",
       "    </tr>\n",
       "    <tr>\n",
       "      <th>18</th>\n",
       "      <td>10231736</td>\n",
       "      <td>If I Did It: Confessions of the Killer</td>\n",
       "    </tr>\n",
       "    <tr>\n",
       "      <th>26</th>\n",
       "      <td>21393608</td>\n",
       "      <td>When The Circus Came To Town</td>\n",
       "    </tr>\n",
       "    <tr>\n",
       "      <th>36</th>\n",
       "      <td>18759375</td>\n",
       "      <td>Murder Is A Family Affair</td>\n",
       "    </tr>\n",
       "    <tr>\n",
       "      <th>37</th>\n",
       "      <td>19814507</td>\n",
       "      <td>Want to Play? (Monkeewrench, #1)</td>\n",
       "    </tr>\n",
       "    <tr>\n",
       "      <th>41</th>\n",
       "      <td>13554552</td>\n",
       "      <td>Sapphire Reign (Royal Blood, #2)</td>\n",
       "    </tr>\n",
       "    <tr>\n",
       "      <th>50</th>\n",
       "      <td>18072986</td>\n",
       "      <td>Embracing Hamilton (JackRabbit7 Series)</td>\n",
       "    </tr>\n",
       "    <tr>\n",
       "      <th>68</th>\n",
       "      <td>18148534</td>\n",
       "      <td>The Twin Dragons (Golden Crown, #2)</td>\n",
       "    </tr>\n",
       "    <tr>\n",
       "      <th>71</th>\n",
       "      <td>17904197</td>\n",
       "      <td>The Car Bomb (The detroit im dyin Trilogy, Boo...</td>\n",
       "    </tr>\n",
       "    <tr>\n",
       "      <th>86</th>\n",
       "      <td>26782681</td>\n",
       "      <td>Mint Condition</td>\n",
       "    </tr>\n",
       "    <tr>\n",
       "      <th>95</th>\n",
       "      <td>18212105</td>\n",
       "      <td>Playmates</td>\n",
       "    </tr>\n",
       "    <tr>\n",
       "      <th>96</th>\n",
       "      <td>1049856</td>\n",
       "      <td>Combat, Vol. 3</td>\n",
       "    </tr>\n",
       "    <tr>\n",
       "      <th>104</th>\n",
       "      <td>15730923</td>\n",
       "      <td>Death (Deck of Lies, #3)</td>\n",
       "    </tr>\n",
       "    <tr>\n",
       "      <th>111</th>\n",
       "      <td>23491292</td>\n",
       "      <td>22918 (Held, #3)</td>\n",
       "    </tr>\n",
       "    <tr>\n",
       "      <th>118</th>\n",
       "      <td>22270444</td>\n",
       "      <td>MOSAICS (Track Presius #2)</td>\n",
       "    </tr>\n",
       "    <tr>\n",
       "      <th>123</th>\n",
       "      <td>16206755</td>\n",
       "      <td>The Thirteenth Child</td>\n",
       "    </tr>\n",
       "    <tr>\n",
       "      <th>124</th>\n",
       "      <td>937147</td>\n",
       "      <td>Piranha: Firing Point</td>\n",
       "    </tr>\n",
       "    <tr>\n",
       "      <th>136</th>\n",
       "      <td>22999114</td>\n",
       "      <td>The Human Forged</td>\n",
       "    </tr>\n",
       "  </tbody>\n",
       "</table>\n",
       "</div>"
      ],
      "text/plain": [
       "      book_id                               title_without_series\n",
       "10   30981004                                    Crazy For Alice\n",
       "14   29976075  Serial Killers: The Colombian Monsters (Serial...\n",
       "15   25840536                                       Women in Red\n",
       "18   10231736             If I Did It: Confessions of the Killer\n",
       "26   21393608                       When The Circus Came To Town\n",
       "36   18759375                          Murder Is A Family Affair\n",
       "37   19814507                   Want to Play? (Monkeewrench, #1)\n",
       "41   13554552                   Sapphire Reign (Royal Blood, #2)\n",
       "50   18072986            Embracing Hamilton (JackRabbit7 Series)\n",
       "68   18148534                The Twin Dragons (Golden Crown, #2)\n",
       "71   17904197  The Car Bomb (The detroit im dyin Trilogy, Boo...\n",
       "86   26782681                                     Mint Condition\n",
       "95   18212105                                          Playmates\n",
       "96    1049856                                     Combat, Vol. 3\n",
       "104  15730923                           Death (Deck of Lies, #3)\n",
       "111  23491292                                   22918 (Held, #3)\n",
       "118  22270444                         MOSAICS (Track Presius #2)\n",
       "123  16206755                               The Thirteenth Child\n",
       "124    937147                              Piranha: Firing Point\n",
       "136  22999114                                   The Human Forged"
      ]
     },
     "execution_count": 588,
     "metadata": {},
     "output_type": "execute_result"
    }
   ],
   "source": [
    "content_rs2('2918efc49ff8f3ffba558afc91792892',train_df,20)"
   ]
  },
  {
   "cell_type": "markdown",
   "metadata": {},
   "source": [
    "Hybrid System with word2vec content method applied."
   ]
  },
  {
   "cell_type": "code",
   "execution_count": 631,
   "metadata": {},
   "outputs": [],
   "source": [
    "def hybrid_recommendations(user_id, data, n, predictions):\n",
    "    # calls the collaborative and content based filtering functions\n",
    "    # calls rs2 for content rather than the original function\n",
    "    content = content_rs2(user_id, data, n)\n",
    "    collab = make_recommendations(data, n, predictions, user_id)\n",
    "    # join the 2 dataframes\n",
    "    hybrid = pd.concat([content, collab])\n",
    "     \n",
    "    # use a weighted system based on number of ratings, to decide on the weighting to use for the hybrid approach\n",
    "\n",
    "    # inspired by this paper: https://ieeexplore.ieee.org/stamp/stamp.jsp?tp=&arnumber=9590147 \n",
    "\n",
    "    v = data['ratings_count']\n",
    "    R = data['book_average_rating']\n",
    "\n",
    "    C = data['book_average_rating'].mean()\n",
    "\n",
    "    m = data['ratings_count']>25\n",
    "    \n",
    "    data['weighted_avg'] = ((R*v) + (C*m)) / (v+m)\n",
    "\n",
    "    # change column type of book_id to be a integer, as it was a float, so hard to look up the weighted average\n",
    "    hybrid['book_id'] = hybrid['book_id'].astype(int)\n",
    "    \n",
    "    # look at how to use the book_id to then find the weighted average and then add this to hybrid table \n",
    "    id_weight = data.set_index('book_id')['weighted_avg'].to_dict()\n",
    "\n",
    "    # maps the weighted_avg values to the 'book_id' column\n",
    "    hybrid['weighted_avg'] = hybrid['book_id'].map(id_weight)\n",
    "\n",
    "    # sorts the dataframe by 'weighted_avg'\n",
    "    hybrid_sorted = hybrid.sort_values(by='weighted_avg', ascending=False)\n",
    "\n",
    "    # Select the top n rows with unique values\n",
    "    top_n_unique_values = hybrid_sorted.head(n).drop_duplicates(subset='title_without_series')\n",
    "    # gets rid of the weighted_avg column to allow for user friendly format\n",
    "    values = top_n_unique_values.drop('weighted_avg',axis=1)\n",
    "\n",
    "    return values"
   ]
  },
  {
   "cell_type": "code",
   "execution_count": 632,
   "metadata": {},
   "outputs": [
    {
     "name": "stderr",
     "output_type": "stream",
     "text": [
      "<ipython-input-631-47e7f9f3e89c>:20: SettingWithCopyWarning: \n",
      "A value is trying to be set on a copy of a slice from a DataFrame.\n",
      "Try using .loc[row_indexer,col_indexer] = value instead\n",
      "\n",
      "See the caveats in the documentation: https://pandas.pydata.org/pandas-docs/stable/user_guide/indexing.html#returning-a-view-versus-a-copy\n",
      "  data['weighted_avg'] = ((R*v) + (C*m)) / (v+m)\n"
     ]
    }
   ],
   "source": [
    "# example usage\n",
    "user_id = '9b808f1cf7160f03647fb8b8aefd4ffb'\n",
    "n = 10\n",
    "hybrid_recs_rs2 = hybrid_recommendations(user_id, ratings_100k, n, predictions)"
   ]
  },
  {
   "cell_type": "code",
   "execution_count": 633,
   "metadata": {},
   "outputs": [
    {
     "data": {
      "text/html": [
       "<div>\n",
       "<style scoped>\n",
       "    .dataframe tbody tr th:only-of-type {\n",
       "        vertical-align: middle;\n",
       "    }\n",
       "\n",
       "    .dataframe tbody tr th {\n",
       "        vertical-align: top;\n",
       "    }\n",
       "\n",
       "    .dataframe thead th {\n",
       "        text-align: right;\n",
       "    }\n",
       "</style>\n",
       "<table border=\"1\" class=\"dataframe\">\n",
       "  <thead>\n",
       "    <tr style=\"text-align: right;\">\n",
       "      <th></th>\n",
       "      <th>book_id</th>\n",
       "      <th>title_without_series</th>\n",
       "    </tr>\n",
       "  </thead>\n",
       "  <tbody>\n",
       "    <tr>\n",
       "      <th>36</th>\n",
       "      <td>20591541</td>\n",
       "      <td>The Eternal Chain</td>\n",
       "    </tr>\n",
       "    <tr>\n",
       "      <th>27278</th>\n",
       "      <td>30242428</td>\n",
       "      <td>Bloodwalker</td>\n",
       "    </tr>\n",
       "    <tr>\n",
       "      <th>23073</th>\n",
       "      <td>27845484</td>\n",
       "      <td>Eve: A Christmas Ghost Story (Psychic Surveys,...</td>\n",
       "    </tr>\n",
       "    <tr>\n",
       "      <th>19</th>\n",
       "      <td>28351603</td>\n",
       "      <td>Twisted Justice</td>\n",
       "    </tr>\n",
       "    <tr>\n",
       "      <th>96085</th>\n",
       "      <td>35480285</td>\n",
       "      <td>A Deadly Game</td>\n",
       "    </tr>\n",
       "    <tr>\n",
       "      <th>11</th>\n",
       "      <td>34743122</td>\n",
       "      <td>Blood Money</td>\n",
       "    </tr>\n",
       "    <tr>\n",
       "      <th>11494</th>\n",
       "      <td>25651905</td>\n",
       "      <td>Why You Were Taken (When Tomorrow Calls #1)</td>\n",
       "    </tr>\n",
       "    <tr>\n",
       "      <th>23</th>\n",
       "      <td>29199942</td>\n",
       "      <td>What She Never Told Me</td>\n",
       "    </tr>\n",
       "    <tr>\n",
       "      <th>35</th>\n",
       "      <td>23664378</td>\n",
       "      <td>Guilt</td>\n",
       "    </tr>\n",
       "  </tbody>\n",
       "</table>\n",
       "</div>"
      ],
      "text/plain": [
       "        book_id                               title_without_series\n",
       "36     20591541                                  The Eternal Chain\n",
       "27278  30242428                                        Bloodwalker\n",
       "23073  27845484  Eve: A Christmas Ghost Story (Psychic Surveys,...\n",
       "19     28351603                                    Twisted Justice\n",
       "96085  35480285                                      A Deadly Game\n",
       "11     34743122                                        Blood Money\n",
       "11494  25651905        Why You Were Taken (When Tomorrow Calls #1)\n",
       "23     29199942                             What She Never Told Me\n",
       "35     23664378                                              Guilt"
      ]
     },
     "execution_count": 633,
     "metadata": {},
     "output_type": "execute_result"
    }
   ],
   "source": [
    "hybrid_recs_rs2"
   ]
  },
  {
   "cell_type": "code",
   "execution_count": 634,
   "metadata": {},
   "outputs": [
    {
     "data": {
      "text/html": [
       "<div>\n",
       "<style scoped>\n",
       "    .dataframe tbody tr th:only-of-type {\n",
       "        vertical-align: middle;\n",
       "    }\n",
       "\n",
       "    .dataframe tbody tr th {\n",
       "        vertical-align: top;\n",
       "    }\n",
       "\n",
       "    .dataframe thead th {\n",
       "        text-align: right;\n",
       "    }\n",
       "</style>\n",
       "<table border=\"1\" class=\"dataframe\">\n",
       "  <thead>\n",
       "    <tr style=\"text-align: right;\">\n",
       "      <th></th>\n",
       "      <th>book_id</th>\n",
       "      <th>title_without_series</th>\n",
       "    </tr>\n",
       "  </thead>\n",
       "  <tbody>\n",
       "    <tr>\n",
       "      <th>50</th>\n",
       "      <td>36070517</td>\n",
       "      <td>Tramps and Thieves (Murder and Mayhem, #2)</td>\n",
       "    </tr>\n",
       "    <tr>\n",
       "      <th>27278</th>\n",
       "      <td>30242428</td>\n",
       "      <td>Bloodwalker</td>\n",
       "    </tr>\n",
       "    <tr>\n",
       "      <th>23073</th>\n",
       "      <td>27845484</td>\n",
       "      <td>Eve: A Christmas Ghost Story (Psychic Surveys,...</td>\n",
       "    </tr>\n",
       "    <tr>\n",
       "      <th>52401</th>\n",
       "      <td>28351603</td>\n",
       "      <td>Twisted Justice</td>\n",
       "    </tr>\n",
       "    <tr>\n",
       "      <th>96085</th>\n",
       "      <td>35480285</td>\n",
       "      <td>A Deadly Game</td>\n",
       "    </tr>\n",
       "    <tr>\n",
       "      <th>11494</th>\n",
       "      <td>25651905</td>\n",
       "      <td>Why You Were Taken (When Tomorrow Calls #1)</td>\n",
       "    </tr>\n",
       "    <tr>\n",
       "      <th>41</th>\n",
       "      <td>29430732</td>\n",
       "      <td>Kill the Father</td>\n",
       "    </tr>\n",
       "    <tr>\n",
       "      <th>32250</th>\n",
       "      <td>23664378</td>\n",
       "      <td>Guilt</td>\n",
       "    </tr>\n",
       "    <tr>\n",
       "      <th>18937</th>\n",
       "      <td>34700191</td>\n",
       "      <td>Undercurrent</td>\n",
       "    </tr>\n",
       "    <tr>\n",
       "      <th>67</th>\n",
       "      <td>30269117</td>\n",
       "      <td>Inferno</td>\n",
       "    </tr>\n",
       "  </tbody>\n",
       "</table>\n",
       "</div>"
      ],
      "text/plain": [
       "        book_id                               title_without_series\n",
       "50     36070517         Tramps and Thieves (Murder and Mayhem, #2)\n",
       "27278  30242428                                        Bloodwalker\n",
       "23073  27845484  Eve: A Christmas Ghost Story (Psychic Surveys,...\n",
       "52401  28351603                                    Twisted Justice\n",
       "96085  35480285                                      A Deadly Game\n",
       "11494  25651905        Why You Were Taken (When Tomorrow Calls #1)\n",
       "41     29430732                                    Kill the Father\n",
       "32250  23664378                                              Guilt\n",
       "18937  34700191                                       Undercurrent\n",
       "67     30269117                                            Inferno"
      ]
     },
     "execution_count": 634,
     "metadata": {},
     "output_type": "execute_result"
    }
   ],
   "source": [
    "hybrid_recs"
   ]
  },
  {
   "cell_type": "code",
   "execution_count": 636,
   "metadata": {},
   "outputs": [
    {
     "data": {
      "text/plain": [
       "0.7"
      ]
     },
     "execution_count": 636,
     "metadata": {},
     "output_type": "execute_result"
    }
   ],
   "source": [
    "precision_at_k2(hybrid_recs,n,user_id)"
   ]
  },
  {
   "cell_type": "code",
   "execution_count": 637,
   "metadata": {},
   "outputs": [
    {
     "data": {
      "text/plain": [
       "0.6"
      ]
     },
     "execution_count": 637,
     "metadata": {},
     "output_type": "execute_result"
    }
   ],
   "source": [
    "precision_at_k2(hybrid_recs_rs2,n,user_id)"
   ]
  }
 ],
 "metadata": {
  "kernelspec": {
   "display_name": "base",
   "language": "python",
   "name": "python3"
  },
  "language_info": {
   "codemirror_mode": {
    "name": "ipython",
    "version": 3
   },
   "file_extension": ".py",
   "mimetype": "text/x-python",
   "name": "python",
   "nbconvert_exporter": "python",
   "pygments_lexer": "ipython3",
   "version": "3.8.8"
  }
 },
 "nbformat": 4,
 "nbformat_minor": 2
}
